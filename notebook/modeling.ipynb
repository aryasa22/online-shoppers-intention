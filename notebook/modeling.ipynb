{
 "cells": [
  {
   "cell_type": "markdown",
   "metadata": {
    "id": "P43EurzfY4gM"
   },
   "source": [
    "# Libraries"
   ]
  },
  {
   "cell_type": "code",
   "execution_count": 1,
   "metadata": {
    "id": "FcFQrbvrYxO1"
   },
   "outputs": [],
   "source": [
    "import numpy as np # numerical computation\n",
    "import pandas as pd # dataset manipulation\n",
    "pd.set_option('display.max_columns', None)\n",
    "\n",
    "# Visualization tools\n",
    "import matplotlib\n",
    "import matplotlib.pyplot as plt\n",
    "import seaborn as sns\n",
    "\n",
    "# Modeling packages\n",
    "import sklearn\n",
    "import xgboost"
   ]
  },
  {
   "cell_type": "code",
   "execution_count": 2,
   "metadata": {
    "colab": {
     "base_uri": "https://localhost:8080/"
    },
    "id": "OXD7rElV25Bn",
    "outputId": "e1d3a4d6-c953-46ad-a95b-aaab92d4c66d"
   },
   "outputs": [
    {
     "name": "stdout",
     "output_type": "stream",
     "text": [
      "Numpy ver: 1.21.5\n",
      "Pandas ver: 1.4.2\n",
      "Matplotlib ver: 3.5.1\n",
      "Seaborn ver: 0.11.2\n",
      "Sklearn ver: 1.1.3\n",
      "XGBoost ver: 1.7.1\n"
     ]
    }
   ],
   "source": [
    "print('Numpy ver:', np.__version__)\n",
    "print('Pandas ver:', pd.__version__)\n",
    "print('Matplotlib ver:', matplotlib.__version__)\n",
    "print('Seaborn ver:', sns.__version__)\n",
    "print('Sklearn ver:', sklearn.__version__)\n",
    "print('XGBoost ver:', xgboost.__version__)"
   ]
  },
  {
   "cell_type": "markdown",
   "metadata": {
    "id": "2cW7sYUOZDbN"
   },
   "source": [
    "# Import Dataset"
   ]
  },
  {
   "cell_type": "code",
   "execution_count": 3,
   "metadata": {
    "id": "XTnAIh-HY9kh"
   },
   "outputs": [],
   "source": [
    "## Train Dataset\n",
    "df_train = pd.read_csv('../dataset/data_train.csv')\n",
    "\n",
    "## Test Dataset\n",
    "df_test = pd.read_csv('../dataset/data_test.csv')"
   ]
  },
  {
   "cell_type": "code",
   "execution_count": null,
   "metadata": {
    "colab": {
     "base_uri": "https://localhost:8080/",
     "height": 270
    },
    "id": "9_P_ZGtzZOUZ",
    "outputId": "2c6fe2bf-c5f9-41d0-ca36-8d070d95bbea"
   },
   "outputs": [
    {
     "data": {
      "text/html": [
       "\n",
       "  <div id=\"df-d2591563-6df6-4894-9edd-749b5ed6410c\">\n",
       "    <div class=\"colab-df-container\">\n",
       "      <div>\n",
       "<style scoped>\n",
       "    .dataframe tbody tr th:only-of-type {\n",
       "        vertical-align: middle;\n",
       "    }\n",
       "\n",
       "    .dataframe tbody tr th {\n",
       "        vertical-align: top;\n",
       "    }\n",
       "\n",
       "    .dataframe thead th {\n",
       "        text-align: right;\n",
       "    }\n",
       "</style>\n",
       "<table border=\"1\" class=\"dataframe\">\n",
       "  <thead>\n",
       "    <tr style=\"text-align: right;\">\n",
       "      <th></th>\n",
       "      <th>Administrative</th>\n",
       "      <th>Administrative_Duration</th>\n",
       "      <th>Informational</th>\n",
       "      <th>Informational_Duration</th>\n",
       "      <th>ProductRelated</th>\n",
       "      <th>ExitRates</th>\n",
       "      <th>PageValues</th>\n",
       "      <th>Weekend</th>\n",
       "      <th>OperatingSystems_2</th>\n",
       "      <th>OperatingSystems_3</th>\n",
       "      <th>OperatingSystems_Other</th>\n",
       "      <th>Browser_2</th>\n",
       "      <th>Browser_Other</th>\n",
       "      <th>Region_3</th>\n",
       "      <th>Region_Other</th>\n",
       "      <th>TrafficType_2</th>\n",
       "      <th>TrafficType_3</th>\n",
       "      <th>TrafficType_Other</th>\n",
       "      <th>Revenue</th>\n",
       "    </tr>\n",
       "  </thead>\n",
       "  <tbody>\n",
       "    <tr>\n",
       "      <th>9139</th>\n",
       "      <td>0.859886</td>\n",
       "      <td>0.871801</td>\n",
       "      <td>0.993999</td>\n",
       "      <td>0.959412</td>\n",
       "      <td>0.493890</td>\n",
       "      <td>0.474216</td>\n",
       "      <td>0.986812</td>\n",
       "      <td>0</td>\n",
       "      <td>0</td>\n",
       "      <td>1</td>\n",
       "      <td>0</td>\n",
       "      <td>1</td>\n",
       "      <td>0</td>\n",
       "      <td>0</td>\n",
       "      <td>0</td>\n",
       "      <td>0</td>\n",
       "      <td>0</td>\n",
       "      <td>1</td>\n",
       "      <td>0</td>\n",
       "    </tr>\n",
       "    <tr>\n",
       "      <th>11105</th>\n",
       "      <td>0.803141</td>\n",
       "      <td>0.860549</td>\n",
       "      <td>0.634804</td>\n",
       "      <td>0.685104</td>\n",
       "      <td>0.586941</td>\n",
       "      <td>0.139467</td>\n",
       "      <td>0.991406</td>\n",
       "      <td>0</td>\n",
       "      <td>1</td>\n",
       "      <td>0</td>\n",
       "      <td>0</td>\n",
       "      <td>1</td>\n",
       "      <td>0</td>\n",
       "      <td>0</td>\n",
       "      <td>1</td>\n",
       "      <td>0</td>\n",
       "      <td>0</td>\n",
       "      <td>1</td>\n",
       "      <td>1</td>\n",
       "    </tr>\n",
       "    <tr>\n",
       "      <th>1628</th>\n",
       "      <td>0.518830</td>\n",
       "      <td>0.698337</td>\n",
       "      <td>0.000000</td>\n",
       "      <td>0.000000</td>\n",
       "      <td>0.469468</td>\n",
       "      <td>0.625308</td>\n",
       "      <td>0.000000</td>\n",
       "      <td>0</td>\n",
       "      <td>0</td>\n",
       "      <td>1</td>\n",
       "      <td>0</td>\n",
       "      <td>1</td>\n",
       "      <td>0</td>\n",
       "      <td>0</td>\n",
       "      <td>1</td>\n",
       "      <td>0</td>\n",
       "      <td>1</td>\n",
       "      <td>0</td>\n",
       "      <td>0</td>\n",
       "    </tr>\n",
       "    <tr>\n",
       "      <th>3570</th>\n",
       "      <td>0.359167</td>\n",
       "      <td>0.385071</td>\n",
       "      <td>0.000000</td>\n",
       "      <td>0.000000</td>\n",
       "      <td>0.475946</td>\n",
       "      <td>0.171878</td>\n",
       "      <td>0.000000</td>\n",
       "      <td>0</td>\n",
       "      <td>1</td>\n",
       "      <td>0</td>\n",
       "      <td>0</td>\n",
       "      <td>1</td>\n",
       "      <td>0</td>\n",
       "      <td>0</td>\n",
       "      <td>1</td>\n",
       "      <td>0</td>\n",
       "      <td>0</td>\n",
       "      <td>0</td>\n",
       "      <td>0</td>\n",
       "    </tr>\n",
       "    <tr>\n",
       "      <th>3417</th>\n",
       "      <td>0.000000</td>\n",
       "      <td>0.000000</td>\n",
       "      <td>0.922497</td>\n",
       "      <td>0.000000</td>\n",
       "      <td>0.423536</td>\n",
       "      <td>0.571131</td>\n",
       "      <td>0.000000</td>\n",
       "      <td>0</td>\n",
       "      <td>1</td>\n",
       "      <td>0</td>\n",
       "      <td>0</td>\n",
       "      <td>1</td>\n",
       "      <td>0</td>\n",
       "      <td>0</td>\n",
       "      <td>0</td>\n",
       "      <td>0</td>\n",
       "      <td>0</td>\n",
       "      <td>0</td>\n",
       "      <td>0</td>\n",
       "    </tr>\n",
       "  </tbody>\n",
       "</table>\n",
       "</div>\n",
       "      <button class=\"colab-df-convert\" onclick=\"convertToInteractive('df-d2591563-6df6-4894-9edd-749b5ed6410c')\"\n",
       "              title=\"Convert this dataframe to an interactive table.\"\n",
       "              style=\"display:none;\">\n",
       "        \n",
       "  <svg xmlns=\"http://www.w3.org/2000/svg\" height=\"24px\"viewBox=\"0 0 24 24\"\n",
       "       width=\"24px\">\n",
       "    <path d=\"M0 0h24v24H0V0z\" fill=\"none\"/>\n",
       "    <path d=\"M18.56 5.44l.94 2.06.94-2.06 2.06-.94-2.06-.94-.94-2.06-.94 2.06-2.06.94zm-11 1L8.5 8.5l.94-2.06 2.06-.94-2.06-.94L8.5 2.5l-.94 2.06-2.06.94zm10 10l.94 2.06.94-2.06 2.06-.94-2.06-.94-.94-2.06-.94 2.06-2.06.94z\"/><path d=\"M17.41 7.96l-1.37-1.37c-.4-.4-.92-.59-1.43-.59-.52 0-1.04.2-1.43.59L10.3 9.45l-7.72 7.72c-.78.78-.78 2.05 0 2.83L4 21.41c.39.39.9.59 1.41.59.51 0 1.02-.2 1.41-.59l7.78-7.78 2.81-2.81c.8-.78.8-2.07 0-2.86zM5.41 20L4 18.59l7.72-7.72 1.47 1.35L5.41 20z\"/>\n",
       "  </svg>\n",
       "      </button>\n",
       "      \n",
       "  <style>\n",
       "    .colab-df-container {\n",
       "      display:flex;\n",
       "      flex-wrap:wrap;\n",
       "      gap: 12px;\n",
       "    }\n",
       "\n",
       "    .colab-df-convert {\n",
       "      background-color: #E8F0FE;\n",
       "      border: none;\n",
       "      border-radius: 50%;\n",
       "      cursor: pointer;\n",
       "      display: none;\n",
       "      fill: #1967D2;\n",
       "      height: 32px;\n",
       "      padding: 0 0 0 0;\n",
       "      width: 32px;\n",
       "    }\n",
       "\n",
       "    .colab-df-convert:hover {\n",
       "      background-color: #E2EBFA;\n",
       "      box-shadow: 0px 1px 2px rgba(60, 64, 67, 0.3), 0px 1px 3px 1px rgba(60, 64, 67, 0.15);\n",
       "      fill: #174EA6;\n",
       "    }\n",
       "\n",
       "    [theme=dark] .colab-df-convert {\n",
       "      background-color: #3B4455;\n",
       "      fill: #D2E3FC;\n",
       "    }\n",
       "\n",
       "    [theme=dark] .colab-df-convert:hover {\n",
       "      background-color: #434B5C;\n",
       "      box-shadow: 0px 1px 3px 1px rgba(0, 0, 0, 0.15);\n",
       "      filter: drop-shadow(0px 1px 2px rgba(0, 0, 0, 0.3));\n",
       "      fill: #FFFFFF;\n",
       "    }\n",
       "  </style>\n",
       "\n",
       "      <script>\n",
       "        const buttonEl =\n",
       "          document.querySelector('#df-d2591563-6df6-4894-9edd-749b5ed6410c button.colab-df-convert');\n",
       "        buttonEl.style.display =\n",
       "          google.colab.kernel.accessAllowed ? 'block' : 'none';\n",
       "\n",
       "        async function convertToInteractive(key) {\n",
       "          const element = document.querySelector('#df-d2591563-6df6-4894-9edd-749b5ed6410c');\n",
       "          const dataTable =\n",
       "            await google.colab.kernel.invokeFunction('convertToInteractive',\n",
       "                                                     [key], {});\n",
       "          if (!dataTable) return;\n",
       "\n",
       "          const docLinkHtml = 'Like what you see? Visit the ' +\n",
       "            '<a target=\"_blank\" href=https://colab.research.google.com/notebooks/data_table.ipynb>data table notebook</a>'\n",
       "            + ' to learn more about interactive tables.';\n",
       "          element.innerHTML = '';\n",
       "          dataTable['output_type'] = 'display_data';\n",
       "          await google.colab.output.renderOutput(dataTable, element);\n",
       "          const docLink = document.createElement('div');\n",
       "          docLink.innerHTML = docLinkHtml;\n",
       "          element.appendChild(docLink);\n",
       "        }\n",
       "      </script>\n",
       "    </div>\n",
       "  </div>\n",
       "  "
      ],
      "text/plain": [
       "       Administrative  Administrative_Duration  Informational  \\\n",
       "9139         0.859886                 0.871801       0.993999   \n",
       "11105        0.803141                 0.860549       0.634804   \n",
       "1628         0.518830                 0.698337       0.000000   \n",
       "3570         0.359167                 0.385071       0.000000   \n",
       "3417         0.000000                 0.000000       0.922497   \n",
       "\n",
       "       Informational_Duration  ProductRelated  ExitRates  PageValues  Weekend  \\\n",
       "9139                 0.959412        0.493890   0.474216    0.986812        0   \n",
       "11105                0.685104        0.586941   0.139467    0.991406        0   \n",
       "1628                 0.000000        0.469468   0.625308    0.000000        0   \n",
       "3570                 0.000000        0.475946   0.171878    0.000000        0   \n",
       "3417                 0.000000        0.423536   0.571131    0.000000        0   \n",
       "\n",
       "       OperatingSystems_2  OperatingSystems_3  OperatingSystems_Other  \\\n",
       "9139                    0                   1                       0   \n",
       "11105                   1                   0                       0   \n",
       "1628                    0                   1                       0   \n",
       "3570                    1                   0                       0   \n",
       "3417                    1                   0                       0   \n",
       "\n",
       "       Browser_2  Browser_Other  Region_3  Region_Other  TrafficType_2  \\\n",
       "9139           1              0         0             0              0   \n",
       "11105          1              0         0             1              0   \n",
       "1628           1              0         0             1              0   \n",
       "3570           1              0         0             1              0   \n",
       "3417           1              0         0             0              0   \n",
       "\n",
       "       TrafficType_3  TrafficType_Other  Revenue  \n",
       "9139               0                  1        0  \n",
       "11105              0                  1        1  \n",
       "1628               1                  0        0  \n",
       "3570               0                  0        0  \n",
       "3417               0                  0        0  "
      ]
     },
     "execution_count": 4,
     "metadata": {},
     "output_type": "execute_result"
    }
   ],
   "source": [
    "df_train.sample(5)"
   ]
  },
  {
   "cell_type": "code",
   "execution_count": null,
   "metadata": {
    "colab": {
     "base_uri": "https://localhost:8080/",
     "height": 270
    },
    "id": "4UWk0CApZQS5",
    "outputId": "6706e3b7-219d-432a-90b6-f5331370fb2e"
   },
   "outputs": [
    {
     "data": {
      "text/html": [
       "\n",
       "  <div id=\"df-a592918f-4092-4f6d-932a-43862eacb6d6\">\n",
       "    <div class=\"colab-df-container\">\n",
       "      <div>\n",
       "<style scoped>\n",
       "    .dataframe tbody tr th:only-of-type {\n",
       "        vertical-align: middle;\n",
       "    }\n",
       "\n",
       "    .dataframe tbody tr th {\n",
       "        vertical-align: top;\n",
       "    }\n",
       "\n",
       "    .dataframe thead th {\n",
       "        text-align: right;\n",
       "    }\n",
       "</style>\n",
       "<table border=\"1\" class=\"dataframe\">\n",
       "  <thead>\n",
       "    <tr style=\"text-align: right;\">\n",
       "      <th></th>\n",
       "      <th>Administrative</th>\n",
       "      <th>Administrative_Duration</th>\n",
       "      <th>Informational</th>\n",
       "      <th>Informational_Duration</th>\n",
       "      <th>ProductRelated</th>\n",
       "      <th>ExitRates</th>\n",
       "      <th>PageValues</th>\n",
       "      <th>Weekend</th>\n",
       "      <th>Revenue</th>\n",
       "      <th>OperatingSystems_2</th>\n",
       "      <th>OperatingSystems_3</th>\n",
       "      <th>OperatingSystems_Other</th>\n",
       "      <th>Browser_2</th>\n",
       "      <th>Browser_Other</th>\n",
       "      <th>Region_3</th>\n",
       "      <th>Region_Other</th>\n",
       "      <th>TrafficType_2</th>\n",
       "      <th>TrafficType_3</th>\n",
       "      <th>TrafficType_Other</th>\n",
       "    </tr>\n",
       "  </thead>\n",
       "  <tbody>\n",
       "    <tr>\n",
       "      <th>1279</th>\n",
       "      <td>0.0</td>\n",
       "      <td>0.0</td>\n",
       "      <td>0.0</td>\n",
       "      <td>0.0</td>\n",
       "      <td>0.205673</td>\n",
       "      <td>1.000000</td>\n",
       "      <td>0.0</td>\n",
       "      <td>1</td>\n",
       "      <td>0</td>\n",
       "      <td>0</td>\n",
       "      <td>0</td>\n",
       "      <td>0</td>\n",
       "      <td>0</td>\n",
       "      <td>0</td>\n",
       "      <td>0</td>\n",
       "      <td>0</td>\n",
       "      <td>0</td>\n",
       "      <td>0</td>\n",
       "      <td>0</td>\n",
       "    </tr>\n",
       "    <tr>\n",
       "      <th>2202</th>\n",
       "      <td>0.0</td>\n",
       "      <td>0.0</td>\n",
       "      <td>0.0</td>\n",
       "      <td>0.0</td>\n",
       "      <td>0.162747</td>\n",
       "      <td>0.895959</td>\n",
       "      <td>0.0</td>\n",
       "      <td>0</td>\n",
       "      <td>0</td>\n",
       "      <td>1</td>\n",
       "      <td>0</td>\n",
       "      <td>0</td>\n",
       "      <td>1</td>\n",
       "      <td>0</td>\n",
       "      <td>0</td>\n",
       "      <td>1</td>\n",
       "      <td>1</td>\n",
       "      <td>0</td>\n",
       "      <td>0</td>\n",
       "    </tr>\n",
       "    <tr>\n",
       "      <th>2333</th>\n",
       "      <td>0.0</td>\n",
       "      <td>0.0</td>\n",
       "      <td>0.0</td>\n",
       "      <td>0.0</td>\n",
       "      <td>0.423536</td>\n",
       "      <td>0.246160</td>\n",
       "      <td>0.0</td>\n",
       "      <td>0</td>\n",
       "      <td>0</td>\n",
       "      <td>1</td>\n",
       "      <td>0</td>\n",
       "      <td>0</td>\n",
       "      <td>1</td>\n",
       "      <td>0</td>\n",
       "      <td>0</td>\n",
       "      <td>1</td>\n",
       "      <td>0</td>\n",
       "      <td>0</td>\n",
       "      <td>0</td>\n",
       "    </tr>\n",
       "    <tr>\n",
       "      <th>935</th>\n",
       "      <td>0.0</td>\n",
       "      <td>0.0</td>\n",
       "      <td>0.0</td>\n",
       "      <td>0.0</td>\n",
       "      <td>0.162747</td>\n",
       "      <td>0.895959</td>\n",
       "      <td>0.0</td>\n",
       "      <td>1</td>\n",
       "      <td>0</td>\n",
       "      <td>1</td>\n",
       "      <td>0</td>\n",
       "      <td>0</td>\n",
       "      <td>1</td>\n",
       "      <td>0</td>\n",
       "      <td>0</td>\n",
       "      <td>0</td>\n",
       "      <td>0</td>\n",
       "      <td>1</td>\n",
       "      <td>0</td>\n",
       "    </tr>\n",
       "    <tr>\n",
       "      <th>1120</th>\n",
       "      <td>0.0</td>\n",
       "      <td>0.0</td>\n",
       "      <td>0.0</td>\n",
       "      <td>0.0</td>\n",
       "      <td>0.205673</td>\n",
       "      <td>0.527686</td>\n",
       "      <td>0.0</td>\n",
       "      <td>1</td>\n",
       "      <td>0</td>\n",
       "      <td>0</td>\n",
       "      <td>1</td>\n",
       "      <td>0</td>\n",
       "      <td>1</td>\n",
       "      <td>0</td>\n",
       "      <td>0</td>\n",
       "      <td>0</td>\n",
       "      <td>0</td>\n",
       "      <td>1</td>\n",
       "      <td>0</td>\n",
       "    </tr>\n",
       "  </tbody>\n",
       "</table>\n",
       "</div>\n",
       "      <button class=\"colab-df-convert\" onclick=\"convertToInteractive('df-a592918f-4092-4f6d-932a-43862eacb6d6')\"\n",
       "              title=\"Convert this dataframe to an interactive table.\"\n",
       "              style=\"display:none;\">\n",
       "        \n",
       "  <svg xmlns=\"http://www.w3.org/2000/svg\" height=\"24px\"viewBox=\"0 0 24 24\"\n",
       "       width=\"24px\">\n",
       "    <path d=\"M0 0h24v24H0V0z\" fill=\"none\"/>\n",
       "    <path d=\"M18.56 5.44l.94 2.06.94-2.06 2.06-.94-2.06-.94-.94-2.06-.94 2.06-2.06.94zm-11 1L8.5 8.5l.94-2.06 2.06-.94-2.06-.94L8.5 2.5l-.94 2.06-2.06.94zm10 10l.94 2.06.94-2.06 2.06-.94-2.06-.94-.94-2.06-.94 2.06-2.06.94z\"/><path d=\"M17.41 7.96l-1.37-1.37c-.4-.4-.92-.59-1.43-.59-.52 0-1.04.2-1.43.59L10.3 9.45l-7.72 7.72c-.78.78-.78 2.05 0 2.83L4 21.41c.39.39.9.59 1.41.59.51 0 1.02-.2 1.41-.59l7.78-7.78 2.81-2.81c.8-.78.8-2.07 0-2.86zM5.41 20L4 18.59l7.72-7.72 1.47 1.35L5.41 20z\"/>\n",
       "  </svg>\n",
       "      </button>\n",
       "      \n",
       "  <style>\n",
       "    .colab-df-container {\n",
       "      display:flex;\n",
       "      flex-wrap:wrap;\n",
       "      gap: 12px;\n",
       "    }\n",
       "\n",
       "    .colab-df-convert {\n",
       "      background-color: #E8F0FE;\n",
       "      border: none;\n",
       "      border-radius: 50%;\n",
       "      cursor: pointer;\n",
       "      display: none;\n",
       "      fill: #1967D2;\n",
       "      height: 32px;\n",
       "      padding: 0 0 0 0;\n",
       "      width: 32px;\n",
       "    }\n",
       "\n",
       "    .colab-df-convert:hover {\n",
       "      background-color: #E2EBFA;\n",
       "      box-shadow: 0px 1px 2px rgba(60, 64, 67, 0.3), 0px 1px 3px 1px rgba(60, 64, 67, 0.15);\n",
       "      fill: #174EA6;\n",
       "    }\n",
       "\n",
       "    [theme=dark] .colab-df-convert {\n",
       "      background-color: #3B4455;\n",
       "      fill: #D2E3FC;\n",
       "    }\n",
       "\n",
       "    [theme=dark] .colab-df-convert:hover {\n",
       "      background-color: #434B5C;\n",
       "      box-shadow: 0px 1px 3px 1px rgba(0, 0, 0, 0.15);\n",
       "      filter: drop-shadow(0px 1px 2px rgba(0, 0, 0, 0.3));\n",
       "      fill: #FFFFFF;\n",
       "    }\n",
       "  </style>\n",
       "\n",
       "      <script>\n",
       "        const buttonEl =\n",
       "          document.querySelector('#df-a592918f-4092-4f6d-932a-43862eacb6d6 button.colab-df-convert');\n",
       "        buttonEl.style.display =\n",
       "          google.colab.kernel.accessAllowed ? 'block' : 'none';\n",
       "\n",
       "        async function convertToInteractive(key) {\n",
       "          const element = document.querySelector('#df-a592918f-4092-4f6d-932a-43862eacb6d6');\n",
       "          const dataTable =\n",
       "            await google.colab.kernel.invokeFunction('convertToInteractive',\n",
       "                                                     [key], {});\n",
       "          if (!dataTable) return;\n",
       "\n",
       "          const docLinkHtml = 'Like what you see? Visit the ' +\n",
       "            '<a target=\"_blank\" href=https://colab.research.google.com/notebooks/data_table.ipynb>data table notebook</a>'\n",
       "            + ' to learn more about interactive tables.';\n",
       "          element.innerHTML = '';\n",
       "          dataTable['output_type'] = 'display_data';\n",
       "          await google.colab.output.renderOutput(dataTable, element);\n",
       "          const docLink = document.createElement('div');\n",
       "          docLink.innerHTML = docLinkHtml;\n",
       "          element.appendChild(docLink);\n",
       "        }\n",
       "      </script>\n",
       "    </div>\n",
       "  </div>\n",
       "  "
      ],
      "text/plain": [
       "      Administrative  Administrative_Duration  Informational  \\\n",
       "1279             0.0                      0.0            0.0   \n",
       "2202             0.0                      0.0            0.0   \n",
       "2333             0.0                      0.0            0.0   \n",
       "935              0.0                      0.0            0.0   \n",
       "1120             0.0                      0.0            0.0   \n",
       "\n",
       "      Informational_Duration  ProductRelated  ExitRates  PageValues  Weekend  \\\n",
       "1279                     0.0        0.205673   1.000000         0.0        1   \n",
       "2202                     0.0        0.162747   0.895959         0.0        0   \n",
       "2333                     0.0        0.423536   0.246160         0.0        0   \n",
       "935                      0.0        0.162747   0.895959         0.0        1   \n",
       "1120                     0.0        0.205673   0.527686         0.0        1   \n",
       "\n",
       "      Revenue  OperatingSystems_2  OperatingSystems_3  OperatingSystems_Other  \\\n",
       "1279        0                   0                   0                       0   \n",
       "2202        0                   1                   0                       0   \n",
       "2333        0                   1                   0                       0   \n",
       "935         0                   1                   0                       0   \n",
       "1120        0                   0                   1                       0   \n",
       "\n",
       "      Browser_2  Browser_Other  Region_3  Region_Other  TrafficType_2  \\\n",
       "1279          0              0         0             0              0   \n",
       "2202          1              0         0             1              1   \n",
       "2333          1              0         0             1              0   \n",
       "935           1              0         0             0              0   \n",
       "1120          1              0         0             0              0   \n",
       "\n",
       "      TrafficType_3  TrafficType_Other  \n",
       "1279              0                  0  \n",
       "2202              0                  0  \n",
       "2333              0                  0  \n",
       "935               1                  0  \n",
       "1120              1                  0  "
      ]
     },
     "execution_count": 5,
     "metadata": {},
     "output_type": "execute_result"
    }
   ],
   "source": [
    "df_test.sample(5)"
   ]
  },
  {
   "cell_type": "markdown",
   "metadata": {
    "id": "AhHt47HjZftS"
   },
   "source": [
    "# Define Train and Test Set"
   ]
  },
  {
   "cell_type": "code",
   "execution_count": null,
   "metadata": {
    "id": "epgPE7dOZiye"
   },
   "outputs": [],
   "source": [
    "X_train = df_train.drop('Revenue', axis = 1)\n",
    "y_train = df_train['Revenue']\n",
    "\n",
    "X_test = df_test.drop('Revenue', axis = 1)\n",
    "y_test = df_test['Revenue']"
   ]
  },
  {
   "cell_type": "markdown",
   "metadata": {
    "id": "iNA7WMBVZUWi"
   },
   "source": [
    "# Functions"
   ]
  },
  {
   "cell_type": "code",
   "execution_count": null,
   "metadata": {
    "id": "K27OHVZhZR74"
   },
   "outputs": [],
   "source": [
    "## Evaluate Classification Mode\n",
    "from sklearn.metrics import accuracy_score, precision_score, recall_score, f1_score, roc_auc_score\n",
    "from sklearn.model_selection import cross_validate\n",
    "\n",
    "def eval_classification(model, logreg = False, cv = True):\n",
    "  \"\"\"\n",
    "  Fungsi untuk menghitung performa model klasifikasi.\n",
    "\n",
    "  parameter\n",
    "  model : model yang ingin dihitung performanya\n",
    "  logreg (default = False) : apakah model regresi logistik atau tidak\n",
    "  cv (default = True) : apakah ingin menghitung performa pada cross validation\n",
    "  \"\"\"\n",
    "\n",
    "  if logreg:\n",
    "    y_pred = model.predict(X_test_lr)\n",
    "    y_pred_proba = model.predict_proba(X_test_lr)\n",
    "\n",
    "    y_pred_train = model.predict(X_train_lr)\n",
    "    y_pred_train_proba = model.predict_proba(X_train_lr)\n",
    "  else:\n",
    "    y_pred = model.predict(X_test)\n",
    "    y_pred_proba = model.predict_proba(X_test)\n",
    "\n",
    "    y_pred_train = model.predict(X_train)\n",
    "    y_pred_train_proba = model.predict_proba(X_train)\n",
    "\n",
    "  print(f'Accuracy (train): {np.round(accuracy_score(y_train, y_pred_train),2)}')\n",
    "  print(f'Accuracy (test): {np.round(accuracy_score(y_test, y_pred),2)}')\n",
    "  print(\"=======\")\n",
    "  print(f'Precision (train): {np.round(precision_score(y_train, y_pred_train, pos_label = 0),2)}')\n",
    "  print(f'Precision (test): {np.round(precision_score(y_test, y_pred, pos_label = 0),2)}')\n",
    "  print(\"=======\")\n",
    "  print(f'Recall (train): {np.round(recall_score(y_train, y_pred_train, pos_label = 0),2)}')\n",
    "  print(f'Recall (test): {np.round(recall_score(y_test, y_pred, pos_label = 0),2)}')\n",
    "  print(\"=======\")\n",
    "  print(f'F1 (train): {np.round(f1_score(y_train, y_pred_train, pos_label = 0),2)}')\n",
    "  print(f'F1 (test): {np.round(f1_score(y_test, y_pred, pos_label = 0),2)}')\n",
    "  print(\"=======\")\n",
    "  print(f'AUC (train): {np.round(roc_auc_score(y_train, y_pred_train_proba[:, 1]),2)}')\n",
    "  print(f'AUC (test): {np.round(roc_auc_score(y_test, y_pred_proba[:, 1]),2)}')\n",
    "  print(\"=======\")\n",
    "\n",
    "  if cv:\n",
    "    if logreg:\n",
    "      score = cross_validate(model, X_train_lr, y_train, cv = 5, scoring = 'roc_auc', return_train_score=True)\n",
    "      print('CV AUC (train):',np.round(score['train_score'].mean(),2))\n",
    "      print('CV AUC (test):' ,np.round(score['test_score'].mean(),2))\n",
    "    else:\n",
    "      score = cross_validate(model, X_train, y_train, cv = 5, scoring = 'roc_auc', return_train_score=True)\n",
    "      print('CV AUC (train):',np.round(score['train_score'].mean(),2))\n",
    "      print('CV AUC (test):' ,np.round(score['test_score'].mean(),2))"
   ]
  },
  {
   "cell_type": "code",
   "execution_count": null,
   "metadata": {
    "id": "oyTQA-GgnXSg"
   },
   "outputs": [],
   "source": [
    "## Feature Importance\n",
    "def show_feature_importance(model):\n",
    "    \"\"\"\n",
    "    Fungsi untuk membuat plot feature importance.\n",
    "\n",
    "    parameter\n",
    "    model : model yang ingin dihitung dilihat feature importance nya\n",
    "    \"\"\"\n",
    "    feat_importances = pd.Series(model.feature_importances_, index=X_train.columns)\n",
    "    ax = feat_importances.nlargest(25).plot(kind='barh', figsize=(10, 8))\n",
    "    ax.invert_yaxis()\n",
    "\n",
    "    plt.xlabel('score')\n",
    "    plt.ylabel('feature')\n",
    "    plt.title('feature importance score')"
   ]
  },
  {
   "cell_type": "markdown",
   "metadata": {
    "id": "0NXTy01KZoLs"
   },
   "source": [
    "# Modeling\n",
    "\n",
    "Untuk setiap model, metric utama yang digunakan sebagai evaluasi adalah skor AUC."
   ]
  },
  {
   "cell_type": "markdown",
   "metadata": {
    "id": "0Ju7Bxs3Zt7e"
   },
   "source": [
    "## Naive Bayes"
   ]
  },
  {
   "cell_type": "markdown",
   "metadata": {
    "id": "mjTXcjMuZv7o"
   },
   "source": [
    "### Base Training"
   ]
  },
  {
   "cell_type": "code",
   "execution_count": null,
   "metadata": {
    "colab": {
     "base_uri": "https://localhost:8080/"
    },
    "id": "rsoqO1oaZYP5",
    "outputId": "80eee0ee-4a68-4c2c-dea5-2b3ed611229d"
   },
   "outputs": [
    {
     "data": {
      "text/plain": [
       "GaussianNB()"
      ]
     },
     "execution_count": 9,
     "metadata": {},
     "output_type": "execute_result"
    }
   ],
   "source": [
    "### Import Library\n",
    "from sklearn.naive_bayes import GaussianNB\n",
    "\n",
    "### Train model\n",
    "nb = GaussianNB()\n",
    "nb.fit(X_train, y_train)"
   ]
  },
  {
   "cell_type": "code",
   "execution_count": null,
   "metadata": {
    "colab": {
     "base_uri": "https://localhost:8080/"
    },
    "id": "DY1QCFVVZ7I4",
    "outputId": "0d50abfb-0768-491d-d9a4-2fca9457f206"
   },
   "outputs": [
    {
     "name": "stdout",
     "output_type": "stream",
     "text": [
      "Accuracy (train): 0.84\n",
      "Accuracy (test): 0.83\n",
      "=======\n",
      "Precision (train): 0.9\n",
      "Precision (test): 0.95\n",
      "=======\n",
      "Recall (train): 0.84\n",
      "Recall (test): 0.84\n",
      "=======\n",
      "F1 (train): 0.87\n",
      "F1 (test): 0.89\n",
      "=======\n",
      "AUC (train): 0.88\n",
      "AUC (test): 0.86\n",
      "=======\n",
      "CV AUC (train): 0.88\n",
      "CV AUC (test): 0.87\n"
     ]
    }
   ],
   "source": [
    "### Evaluation\n",
    "eval_classification(nb)"
   ]
  },
  {
   "cell_type": "code",
   "execution_count": null,
   "metadata": {
    "colab": {
     "base_uri": "https://localhost:8080/",
     "height": 282
    },
    "id": "_DJgKrFQaAJo",
    "outputId": "1b86f27d-e024-4fc8-be85-ccf350f00a6b"
   },
   "outputs": [
    {
     "data": {
      "text/plain": [
       "<matplotlib.axes._subplots.AxesSubplot at 0x7fd94e752ca0>"
      ]
     },
     "execution_count": 11,
     "metadata": {},
     "output_type": "execute_result"
    },
    {
     "data": {
      "image/png": "[encoded data removed]",
      "text/plain": [
       "<Figure size 432x288 with 2 Axes>"
      ]
     },
     "metadata": {
      "needs_background": "light"
     },
     "output_type": "display_data"
    }
   ],
   "source": [
    "### Confusion Matrix\n",
    "from sklearn.metrics import confusion_matrix\n",
    "\n",
    "y_pred = nb.predict(X_test)\n",
    "cm = confusion_matrix(y_test, y_pred)\n",
    "sns.heatmap(cm, annot=True, fmt = '.0f')"
   ]
  },
  {
   "cell_type": "markdown",
   "metadata": {
    "id": "xPz3JirvdGTk"
   },
   "source": [
    "Model naive bayes yang dilatih tidak mengalami overfitting sehingga tidak perlu dilakukan hyperparameter tuning"
   ]
  },
  {
   "cell_type": "markdown",
   "metadata": {
    "id": "vT7M9p71ajlS"
   },
   "source": [
    "## Logistic Regression"
   ]
  },
  {
   "cell_type": "markdown",
   "metadata": {
    "id": "1pXIv4iddOF0"
   },
   "source": [
    "### Drop Non Linear Features"
   ]
  },
  {
   "cell_type": "code",
   "execution_count": null,
   "metadata": {
    "id": "boxqfzVyaiVo"
   },
   "outputs": [],
   "source": [
    "non_linear = ['Weekend']\n",
    "os = [x for x in X_train.columns if 'OperatingSystem' in x]\n",
    "browser = [x for x in X_train.columns if 'Browser' in x]\n",
    "region = [x for x in X_train.columns if 'Region' in x]\n",
    "traffic = [x for x in X_train.columns if 'TrafficType' in x]\n",
    "\n",
    "non_linear = non_linear + os + browser + region + traffic\n",
    "\n",
    "### Drop non linear\n",
    "X_train_lr = X_train.drop(non_linear, axis = 1)\n",
    "X_test_lr = X_test.drop(non_linear, axis = 1)"
   ]
  },
  {
   "cell_type": "markdown",
   "metadata": {
    "id": "k8SK2pUAdTem"
   },
   "source": [
    "### Base Training"
   ]
  },
  {
   "cell_type": "code",
   "execution_count": null,
   "metadata": {
    "colab": {
     "base_uri": "https://localhost:8080/"
    },
    "id": "ErM4Z4l-lSax",
    "outputId": "c9207034-3c7b-439a-b27a-9a67b1625d20"
   },
   "outputs": [
    {
     "data": {
      "text/plain": [
       "LogisticRegression()"
      ]
     },
     "execution_count": 13,
     "metadata": {},
     "output_type": "execute_result"
    }
   ],
   "source": [
    "### Import Library\n",
    "from sklearn.linear_model import LogisticRegression\n",
    "\n",
    "### Train Model\n",
    "logreg = LogisticRegression()\n",
    "logreg.fit(X_train_lr, y_train)"
   ]
  },
  {
   "cell_type": "code",
   "execution_count": null,
   "metadata": {
    "colab": {
     "base_uri": "https://localhost:8080/"
    },
    "id": "M_sYQsEGdcHx",
    "outputId": "d243ef36-0636-498e-c795-1b2d8a0abd21"
   },
   "outputs": [
    {
     "name": "stdout",
     "output_type": "stream",
     "text": [
      "Accuracy (train): 0.86\n",
      "Accuracy (test): 0.87\n",
      "=======\n",
      "Precision (train): 0.9\n",
      "Precision (test): 0.96\n",
      "=======\n",
      "Recall (train): 0.89\n",
      "Recall (test): 0.89\n",
      "=======\n",
      "F1 (train): 0.9\n",
      "F1 (test): 0.92\n",
      "=======\n",
      "AUC (train): 0.89\n",
      "AUC (test): 0.86\n",
      "=======\n",
      "CV AUC (train): 0.89\n",
      "CV AUC (test): 0.89\n"
     ]
    }
   ],
   "source": [
    "### Evaluate\n",
    "eval_classification(logreg, True)"
   ]
  },
  {
   "cell_type": "code",
   "execution_count": null,
   "metadata": {
    "colab": {
     "base_uri": "https://localhost:8080/",
     "height": 282
    },
    "id": "1d69ioeGfHGG",
    "outputId": "9edaf5e9-712e-4a78-8e53-577757474fc3"
   },
   "outputs": [
    {
     "data": {
      "text/plain": [
       "<matplotlib.axes._subplots.AxesSubplot at 0x7fd94b6bce50>"
      ]
     },
     "execution_count": 15,
     "metadata": {},
     "output_type": "execute_result"
    },
    {
     "data": {
      "image/png": "[encoded data removed]",
      "text/plain": [
       "<Figure size 432x288 with 2 Axes>"
      ]
     },
     "metadata": {
      "needs_background": "light"
     },
     "output_type": "display_data"
    }
   ],
   "source": [
    "### Confusion Matrix\n",
    "\n",
    "y_pred = logreg.predict(X_test_lr)\n",
    "cm = confusion_matrix(y_test, y_pred)\n",
    "sns.heatmap(cm, annot=True, fmt = '.0f')"
   ]
  },
  {
   "cell_type": "markdown",
   "metadata": {
    "id": "fvTKMf0Adij1"
   },
   "source": [
    "Model regresi logistik juga tidak overfitting sehingga tidak perlu dilakukan hyperparameter tuning"
   ]
  },
  {
   "cell_type": "markdown",
   "metadata": {
    "id": "soFCBrV9alw0"
   },
   "source": [
    "## Decision Tree"
   ]
  },
  {
   "cell_type": "markdown",
   "metadata": {
    "id": "GCXezw9xdpTT"
   },
   "source": [
    "### Base Training"
   ]
  },
  {
   "cell_type": "code",
   "execution_count": null,
   "metadata": {
    "colab": {
     "base_uri": "https://localhost:8080/"
    },
    "id": "rZLEuGX9aq4H",
    "outputId": "a50cdcc3-f0fc-40d8-d7be-3da5b972d48f"
   },
   "outputs": [
    {
     "data": {
      "text/plain": [
       "DecisionTreeClassifier()"
      ]
     },
     "execution_count": 16,
     "metadata": {},
     "output_type": "execute_result"
    }
   ],
   "source": [
    "### Import Library\n",
    "from sklearn.tree import DecisionTreeClassifier\n",
    "\n",
    "### Train Model\n",
    "dt = DecisionTreeClassifier()\n",
    "dt.fit(X_train, y_train)"
   ]
  },
  {
   "cell_type": "code",
   "execution_count": null,
   "metadata": {
    "colab": {
     "base_uri": "https://localhost:8080/"
    },
    "id": "jbfAM93yd0Xq",
    "outputId": "a38c0ab1-43a8-4489-f323-621f92602783"
   },
   "outputs": [
    {
     "name": "stdout",
     "output_type": "stream",
     "text": [
      "Accuracy (train): 1.0\n",
      "Accuracy (test): 0.83\n",
      "=======\n",
      "Precision (train): 1.0\n",
      "Precision (test): 0.91\n",
      "=======\n",
      "Recall (train): 1.0\n",
      "Recall (test): 0.88\n",
      "=======\n",
      "F1 (train): 1.0\n",
      "F1 (test): 0.9\n",
      "=======\n",
      "AUC (train): 1.0\n",
      "AUC (test): 0.7\n",
      "=======\n",
      "CV AUC (train): 1.0\n",
      "CV AUC (test): 0.83\n"
     ]
    }
   ],
   "source": [
    "### Evaluate\n",
    "eval_classification(dt)"
   ]
  },
  {
   "cell_type": "markdown",
   "metadata": {
    "id": "H0otpiJHd4hX"
   },
   "source": [
    "Model decision tree yang dilatih mengalami overfitting sehingga perlu dilakukan hyperparameter tuning"
   ]
  },
  {
   "cell_type": "markdown",
   "metadata": {
    "id": "x7wcBTEbd_Pd"
   },
   "source": [
    "### Hyperparameter Tuning"
   ]
  },
  {
   "cell_type": "code",
   "execution_count": null,
   "metadata": {
    "colab": {
     "base_uri": "https://localhost:8080/"
    },
    "id": "tcycpxbepFdV",
    "outputId": "d3f355a3-c6b3-4d31-bf4a-4d15fe1c6b8a"
   },
   "outputs": [
    {
     "name": "stdout",
     "output_type": "stream",
     "text": [
      "Accuracy (train): 0.9\n",
      "Accuracy (test): 0.88\n",
      "=======\n",
      "Precision (train): 0.92\n",
      "Precision (test): 0.93\n",
      "=======\n",
      "Recall (train): 0.93\n",
      "Recall (test): 0.92\n",
      "=======\n",
      "F1 (train): 0.92\n",
      "F1 (test): 0.93\n",
      "=======\n",
      "AUC (train): 0.96\n",
      "AUC (test): 0.88\n",
      "=======\n",
      "CV AUC (train): 0.96\n",
      "CV AUC (test): 0.92\n"
     ]
    }
   ],
   "source": [
    "# Import Library\n",
    "from sklearn.model_selection import RandomizedSearchCV, GridSearchCV\n",
    "\n",
    "# List of hyperparameter\n",
    "max_depth = [int(x) for x in np.linspace(1, 110, num = 30)] # Maximum number of levels in tree\n",
    "min_samples_split = [2, 5, 10, 100] # Minimum number of samples required to split a node\n",
    "min_samples_leaf = [1, 2, 4, 10, 20, 50] # Minimum number of samples required at each leaf node\n",
    "max_features = ['log2', None] # Number of features to consider at every split\n",
    "criterion = ['gini','entropy']\n",
    "splitter = ['best','random']\n",
    "\n",
    "hyperparameters = dict(max_depth=max_depth, \n",
    "                       min_samples_split=min_samples_split, \n",
    "                       min_samples_leaf=min_samples_leaf,\n",
    "                       max_features=max_features,\n",
    "                       criterion=criterion,\n",
    "                       splitter=splitter\n",
    "                      )\n",
    "\n",
    "# Inisialisasi Model\n",
    "dt = DecisionTreeClassifier()\n",
    "rs_dt = RandomizedSearchCV(dt, hyperparameters, cv=5, scoring='roc_auc',random_state=42)\n",
    "rs_dt.fit(X_train, y_train)\n",
    "\n",
    "# Predict & Evaluation\n",
    "eval_classification(rs_dt)"
   ]
  },
  {
   "cell_type": "code",
   "execution_count": null,
   "metadata": {
    "colab": {
     "base_uri": "https://localhost:8080/",
     "height": 282
    },
    "id": "KJV3Zl9SpS1Y",
    "outputId": "3985af7d-6417-4bf0-da93-3832d0886a41"
   },
   "outputs": [
    {
     "data": {
      "text/plain": [
       "<matplotlib.axes._subplots.AxesSubplot at 0x7fd94b349d90>"
      ]
     },
     "execution_count": 19,
     "metadata": {},
     "output_type": "execute_result"
    },
    {
     "data": {
      "image/png": "[encoded data removed]",
      "text/plain": [
       "<Figure size 432x288 with 2 Axes>"
      ]
     },
     "metadata": {
      "needs_background": "light"
     },
     "output_type": "display_data"
    }
   ],
   "source": [
    "# Confusion Matrix\n",
    "y_pred = rs_dt.predict(X_test)\n",
    "cm = confusion_matrix(y_test, y_pred)\n",
    "sns.heatmap(cm, annot = True, fmt = '.0f')"
   ]
  },
  {
   "cell_type": "code",
   "execution_count": null,
   "metadata": {
    "colab": {
     "base_uri": "https://localhost:8080/"
    },
    "id": "5ZmdkCJ1pIQX",
    "outputId": "a2c4fcca-1ec8-4a15-a04c-0383ce87a92d"
   },
   "outputs": [
    {
     "data": {
      "text/plain": [
       "{'ccp_alpha': 0.0,\n",
       " 'class_weight': None,\n",
       " 'criterion': 'entropy',\n",
       " 'max_depth': 110,\n",
       " 'max_features': None,\n",
       " 'max_leaf_nodes': None,\n",
       " 'min_impurity_decrease': 0.0,\n",
       " 'min_samples_leaf': 4,\n",
       " 'min_samples_split': 100,\n",
       " 'min_weight_fraction_leaf': 0.0,\n",
       " 'random_state': None,\n",
       " 'splitter': 'best'}"
      ]
     },
     "execution_count": 20,
     "metadata": {},
     "output_type": "execute_result"
    }
   ],
   "source": [
    "# best paramenters\n",
    "\n",
    "rs_dt.best_estimator_.get_params()"
   ]
  },
  {
   "cell_type": "markdown",
   "metadata": {
    "id": "jzTjfuSneWNK"
   },
   "source": [
    "Setelah dilakukan tuning, model decision tree tidak lagi overfitting dengan parameter terbaik adalah max_depth = 110, criterion = 'entropy', max_features = None, min_samples_leaf = 4, min_samples_split = 100, dan splitter = 'best'"
   ]
  },
  {
   "cell_type": "markdown",
   "metadata": {
    "id": "23592wC8arcm"
   },
   "source": [
    "## Random Forest"
   ]
  },
  {
   "cell_type": "markdown",
   "metadata": {
    "id": "ITL1BnoJfa6v"
   },
   "source": [
    "### Base Training"
   ]
  },
  {
   "cell_type": "code",
   "execution_count": null,
   "metadata": {
    "colab": {
     "base_uri": "https://localhost:8080/"
    },
    "id": "IPm2_SsAatLf",
    "outputId": "357f46b7-0305-406b-9e19-3a47294504fb"
   },
   "outputs": [
    {
     "data": {
      "text/plain": [
       "RandomForestClassifier(random_state=42)"
      ]
     },
     "execution_count": 21,
     "metadata": {},
     "output_type": "execute_result"
    }
   ],
   "source": [
    "### Import Library\n",
    "from sklearn.ensemble import RandomForestClassifier\n",
    "\n",
    "### Train model\n",
    "rf = RandomForestClassifier(random_state=42)\n",
    "rf.fit(X_train, y_train)"
   ]
  },
  {
   "cell_type": "code",
   "execution_count": null,
   "metadata": {
    "colab": {
     "base_uri": "https://localhost:8080/"
    },
    "id": "DeWSOKNvfhgN",
    "outputId": "c2d50a50-a916-4a41-d78b-f2975da3362e"
   },
   "outputs": [
    {
     "name": "stdout",
     "output_type": "stream",
     "text": [
      "Accuracy (train): 1.0\n",
      "Accuracy (test): 0.88\n",
      "=======\n",
      "Precision (train): 1.0\n",
      "Precision (test): 0.94\n",
      "=======\n",
      "Recall (train): 1.0\n",
      "Recall (test): 0.92\n",
      "=======\n",
      "F1 (train): 1.0\n",
      "F1 (test): 0.93\n",
      "=======\n",
      "AUC (train): 1.0\n",
      "AUC (test): 0.89\n",
      "=======\n",
      "CV AUC (train): 1.0\n",
      "CV AUC (test): 0.95\n"
     ]
    }
   ],
   "source": [
    "### Evaluate\n",
    "eval_classification(rf)"
   ]
  },
  {
   "cell_type": "markdown",
   "metadata": {
    "id": "EUE-5wi1fpOv"
   },
   "source": [
    "Model random forest yang dilatih masih overfitting sehingga perlu adanya hyperparameter tuning"
   ]
  },
  {
   "cell_type": "markdown",
   "metadata": {
    "id": "8hM15f1FfuqM"
   },
   "source": [
    "### Hyperparameter Tuning"
   ]
  },
  {
   "cell_type": "code",
   "execution_count": null,
   "metadata": {
    "colab": {
     "base_uri": "https://localhost:8080/"
    },
    "id": "TFjGv-A-kts5",
    "outputId": "5232787e-97d7-456a-a920-c89b270358ba"
   },
   "outputs": [
    {
     "name": "stdout",
     "output_type": "stream",
     "text": [
      "Accuracy (train): 0.89\n",
      "Accuracy (test): 0.87\n",
      "=======\n",
      "Precision (train): 0.93\n",
      "Precision (test): 0.95\n",
      "=======\n",
      "Recall (train): 0.9\n",
      "Recall (test): 0.9\n",
      "=======\n",
      "F1 (train): 0.91\n",
      "F1 (test): 0.92\n",
      "=======\n",
      "AUC (train): 0.96\n",
      "AUC (test): 0.91\n",
      "=======\n",
      "CV AUC (train): 0.96\n",
      "CV AUC (test): 0.94\n"
     ]
    }
   ],
   "source": [
    "from sklearn.model_selection import RandomizedSearchCV\n",
    "\n",
    "n_estimators = [int(x) for x in np.linspace(2, 150, 30)]\n",
    "criterion = ['gini', 'entropy']\n",
    "max_depth = [int(x) for x in np.linspace(2, 100, 20)]\n",
    "min_samples_split = [int(x) for x in np.linspace(2, 150, 30)]\n",
    "min_samples_leaf = [int(x) for x in np.linspace(2, 150, 30)]\n",
    "\n",
    "hyperparameters = dict(n_estimators = n_estimators,\n",
    "                       criterion = criterion,\n",
    "                       max_depth = max_depth,\n",
    "                       min_samples_split = min_samples_split,\n",
    "                       min_samples_leaf = min_samples_leaf)\n",
    "\n",
    "rf_tune = RandomForestClassifier(random_state = 42)\n",
    "rs_rf = RandomizedSearchCV(rf_tune, hyperparameters, cv = 5, scoring = 'roc_auc', \n",
    "                           n_iter = 10, random_state = 42)\n",
    "rs_rf.fit(X_train, y_train)\n",
    "eval_classification(rs_rf)"
   ]
  },
  {
   "cell_type": "code",
   "execution_count": null,
   "metadata": {
    "colab": {
     "base_uri": "https://localhost:8080/",
     "height": 282
    },
    "id": "kkuzEKkYgghe",
    "outputId": "a9090aeb-e63e-4686-cf75-32f368285b80"
   },
   "outputs": [
    {
     "data": {
      "text/plain": [
       "<matplotlib.axes._subplots.AxesSubplot at 0x7fd94af00910>"
      ]
     },
     "execution_count": 24,
     "metadata": {},
     "output_type": "execute_result"
    },
    {
     "data": {
      "image/png": "[encoded data removed]",
      "text/plain": [
       "<Figure size 432x288 with 2 Axes>"
      ]
     },
     "metadata": {
      "needs_background": "light"
     },
     "output_type": "display_data"
    }
   ],
   "source": [
    "# Confusion Matrix\n",
    "y_pred = rs_rf.predict(X_test)\n",
    "cm = confusion_matrix(y_test, y_pred)\n",
    "sns.heatmap(cm, annot = True, fmt = '.0f')"
   ]
  },
  {
   "cell_type": "code",
   "execution_count": null,
   "metadata": {
    "colab": {
     "base_uri": "https://localhost:8080/"
    },
    "id": "T6VSyQnPlF4H",
    "outputId": "d04a8cb2-eaeb-45c2-da08-5e50aff372b5"
   },
   "outputs": [
    {
     "data": {
      "text/plain": [
       "{'bootstrap': True,\n",
       " 'ccp_alpha': 0.0,\n",
       " 'class_weight': None,\n",
       " 'criterion': 'entropy',\n",
       " 'max_depth': 89,\n",
       " 'max_features': 'auto',\n",
       " 'max_leaf_nodes': None,\n",
       " 'max_samples': None,\n",
       " 'min_impurity_decrease': 0.0,\n",
       " 'min_samples_leaf': 2,\n",
       " 'min_samples_split': 150,\n",
       " 'min_weight_fraction_leaf': 0.0,\n",
       " 'n_estimators': 104,\n",
       " 'n_jobs': None,\n",
       " 'oob_score': False,\n",
       " 'random_state': 42,\n",
       " 'verbose': 0,\n",
       " 'warm_start': False}"
      ]
     },
     "execution_count": 25,
     "metadata": {},
     "output_type": "execute_result"
    }
   ],
   "source": [
    "### Best Parameters\n",
    "rs_rf.best_estimator_.get_params()"
   ]
  },
  {
   "cell_type": "markdown",
   "metadata": {
    "id": "YyPojdEFgqII"
   },
   "source": [
    "Setelah tuning, model random forest mengalami peningkatan performa dan tidak lagi overfitting. Hyperparameter terbaiknya adalah n_estimators = 104, criterion = 'entropy', max_depth = 89, min_samples_split = 150, dan min_samples_leaf = 2."
   ]
  },
  {
   "cell_type": "markdown",
   "metadata": {
    "id": "qQhbV0oEatmT"
   },
   "source": [
    "## K-Nearest Neighbors"
   ]
  },
  {
   "cell_type": "markdown",
   "metadata": {
    "id": "_KNcj737hFdZ"
   },
   "source": [
    "### Base Training"
   ]
  },
  {
   "cell_type": "code",
   "execution_count": null,
   "metadata": {
    "colab": {
     "base_uri": "https://localhost:8080/"
    },
    "id": "oN9zSTtlaw0Y",
    "outputId": "d6db52fb-7f24-4b1c-d158-4623c22fc691"
   },
   "outputs": [
    {
     "data": {
      "text/plain": [
       "KNeighborsClassifier()"
      ]
     },
     "execution_count": 26,
     "metadata": {},
     "output_type": "execute_result"
    }
   ],
   "source": [
    "from sklearn.neighbors import KNeighborsClassifier # import knn dari sklearn\n",
    "knn = KNeighborsClassifier() # inisiasi object dengan nama knn\n",
    "knn.fit(X_train, y_train) # fit model KNN dari data train"
   ]
  },
  {
   "cell_type": "code",
   "execution_count": null,
   "metadata": {
    "colab": {
     "base_uri": "https://localhost:8080/"
    },
    "id": "5WwySmjHhLDo",
    "outputId": "d6da49ea-6d0a-4d35-f2ae-f214f397009b"
   },
   "outputs": [
    {
     "name": "stdout",
     "output_type": "stream",
     "text": [
      "Accuracy (train): 0.91\n",
      "Accuracy (test): 0.86\n",
      "=======\n",
      "Precision (train): 0.94\n",
      "Precision (test): 0.94\n",
      "=======\n",
      "Recall (train): 0.92\n",
      "Recall (test): 0.89\n",
      "=======\n",
      "F1 (train): 0.93\n",
      "F1 (test): 0.92\n",
      "=======\n",
      "AUC (train): 0.97\n",
      "AUC (test): 0.84\n",
      "=======\n",
      "CV AUC (train): 0.97\n",
      "CV AUC (test): 0.92\n"
     ]
    }
   ],
   "source": [
    "# Evaluasi\n",
    "eval_classification(knn)"
   ]
  },
  {
   "cell_type": "markdown",
   "metadata": {
    "id": "yzwq4iYxha_K"
   },
   "source": [
    "Model KNN sedikit mengalami overfitting sehingga perlu hyperparameter tuning"
   ]
  },
  {
   "cell_type": "markdown",
   "metadata": {
    "id": "YjzQC7OQhgl4"
   },
   "source": [
    "### Hyperparameter Tuning"
   ]
  },
  {
   "cell_type": "code",
   "execution_count": null,
   "metadata": {
    "colab": {
     "base_uri": "https://localhost:8080/"
    },
    "id": "7c28FZ85hY34",
    "outputId": "7aa5aae9-6dc5-4f00-ca2b-c7fae4205656"
   },
   "outputs": [
    {
     "name": "stdout",
     "output_type": "stream",
     "text": [
      "Accuracy (train): 0.87\n",
      "Accuracy (test): 0.87\n",
      "=======\n",
      "Precision (train): 0.9\n",
      "Precision (test): 0.95\n",
      "=======\n",
      "Recall (train): 0.9\n",
      "Recall (test): 0.9\n",
      "=======\n",
      "F1 (train): 0.9\n",
      "F1 (test): 0.92\n",
      "=======\n",
      "AUC (train): 0.93\n",
      "AUC (test): 0.87\n",
      "=======\n",
      "CV AUC (train): 0.93\n",
      "CV AUC (test): 0.91\n"
     ]
    }
   ],
   "source": [
    "n_neighbors = [int(x) for x in np.linspace(2, 100, 30)]\n",
    "hyperparameters = dict(n_neighbors = n_neighbors)\n",
    "\n",
    "knn_tune = KNeighborsClassifier()\n",
    "rs_knn = RandomizedSearchCV(knn_tune, hyperparameters, cv = 5, return_train_score = True,\n",
    "                            scoring = 'roc_auc', random_state = 42)\n",
    "rs_knn.fit(X_train, y_train)\n",
    "eval_classification(rs_knn)"
   ]
  },
  {
   "cell_type": "code",
   "execution_count": null,
   "metadata": {
    "colab": {
     "base_uri": "https://localhost:8080/",
     "height": 282
    },
    "id": "HisBBOGpif82",
    "outputId": "4f503e55-2da3-45f5-8b35-fd6edd41054f"
   },
   "outputs": [
    {
     "data": {
      "text/plain": [
       "<matplotlib.axes._subplots.AxesSubplot at 0x7fd94af0a040>"
      ]
     },
     "execution_count": 29,
     "metadata": {},
     "output_type": "execute_result"
    },
    {
     "data": {
      "image/png": "[encoded data removed]",
      "text/plain": [
       "<Figure size 432x288 with 2 Axes>"
      ]
     },
     "metadata": {
      "needs_background": "light"
     },
     "output_type": "display_data"
    }
   ],
   "source": [
    "# Confusion Matrix\n",
    "y_pred = rs_knn.predict(X_test)\n",
    "cm = confusion_matrix(y_test, y_pred)\n",
    "sns.heatmap(cm, annot = True, fmt = '.0f')"
   ]
  },
  {
   "cell_type": "code",
   "execution_count": null,
   "metadata": {
    "colab": {
     "base_uri": "https://localhost:8080/"
    },
    "id": "SXJmth6VifRU",
    "outputId": "9e77e80f-f176-478e-ab06-e4ae6a755560"
   },
   "outputs": [
    {
     "data": {
      "text/plain": [
       "{'algorithm': 'auto',\n",
       " 'leaf_size': 30,\n",
       " 'metric': 'minkowski',\n",
       " 'metric_params': None,\n",
       " 'n_jobs': None,\n",
       " 'n_neighbors': 29,\n",
       " 'p': 2,\n",
       " 'weights': 'uniform'}"
      ]
     },
     "execution_count": 30,
     "metadata": {},
     "output_type": "execute_result"
    }
   ],
   "source": [
    "### Best Parameters\n",
    "rs_knn.best_estimator_.get_params()"
   ]
  },
  {
   "cell_type": "markdown",
   "metadata": {
    "id": "L6lHKV3kkbdY"
   },
   "source": [
    "Performa model KNN lebih baik setelah tuning. Hyperparameter terbaiknya adalah n_neighbors = 29"
   ]
  },
  {
   "cell_type": "markdown",
   "metadata": {
    "id": "NWvy2Eb6axMv"
   },
   "source": [
    "## Support Vector Machine"
   ]
  },
  {
   "cell_type": "markdown",
   "metadata": {
    "id": "30TTz1xbkjOP"
   },
   "source": [
    "### Base Training"
   ]
  },
  {
   "cell_type": "code",
   "execution_count": null,
   "metadata": {
    "colab": {
     "base_uri": "https://localhost:8080/"
    },
    "id": "d1GbZ6YiazFg",
    "outputId": "d2d5c145-1647-4236-bee9-8c7992930314"
   },
   "outputs": [
    {
     "data": {
      "text/plain": [
       "SVC(probability=True)"
      ]
     },
     "execution_count": 31,
     "metadata": {},
     "output_type": "execute_result"
    }
   ],
   "source": [
    "from sklearn.svm import SVC # import library\n",
    "svc = SVC(probability=True) # define model\n",
    "svc.fit(X_train, y_train) # train model"
   ]
  },
  {
   "cell_type": "code",
   "execution_count": null,
   "metadata": {
    "colab": {
     "base_uri": "https://localhost:8080/"
    },
    "id": "4QJRhGR2chZ_",
    "outputId": "3c9ae2d8-4bf6-488d-c127-c8146e87041f"
   },
   "outputs": [
    {
     "name": "stdout",
     "output_type": "stream",
     "text": [
      "Accuracy (train): 0.87\n",
      "Accuracy (test): 0.87\n",
      "=======\n",
      "Precision (train): 0.91\n",
      "Precision (test): 0.96\n",
      "=======\n",
      "Recall (train): 0.89\n",
      "Recall (test): 0.89\n",
      "=======\n",
      "F1 (train): 0.9\n",
      "F1 (test): 0.92\n",
      "=======\n",
      "AUC (train): 0.94\n",
      "AUC (test): 0.87\n",
      "=======\n",
      "CV AUC (train): 0.94\n",
      "CV AUC (test): 0.92\n"
     ]
    }
   ],
   "source": [
    "# evaluate\n",
    "eval_classification(svc)"
   ]
  },
  {
   "cell_type": "code",
   "execution_count": null,
   "metadata": {
    "colab": {
     "base_uri": "https://localhost:8080/",
     "height": 282
    },
    "id": "AaNLLeipkuZj",
    "outputId": "fafae51e-4ef1-4d4d-db6f-a5f847a6afd5"
   },
   "outputs": [
    {
     "data": {
      "text/plain": [
       "<matplotlib.axes._subplots.AxesSubplot at 0x7fd94ad7eeb0>"
      ]
     },
     "execution_count": 33,
     "metadata": {},
     "output_type": "execute_result"
    },
    {
     "data": {
      "image/png": "[encoded data removed]",
      "text/plain": [
       "<Figure size 432x288 with 2 Axes>"
      ]
     },
     "metadata": {
      "needs_background": "light"
     },
     "output_type": "display_data"
    }
   ],
   "source": [
    "# Confusion Matrix\n",
    "y_pred = svc.predict(X_test)\n",
    "cm = confusion_matrix(y_test, y_pred)\n",
    "sns.heatmap(cm, annot = True, fmt = '.0f')"
   ]
  },
  {
   "cell_type": "markdown",
   "metadata": {
    "id": "pogbXBCQkuAT"
   },
   "source": [
    "Model SVC tidak mengalami overfitting"
   ]
  },
  {
   "cell_type": "markdown",
   "metadata": {
    "id": "oLGkL3CIaza7"
   },
   "source": [
    "## Ada Boost"
   ]
  },
  {
   "cell_type": "markdown",
   "metadata": {
    "id": "gCJeA1i8me3H"
   },
   "source": [
    "### Base Training"
   ]
  },
  {
   "cell_type": "code",
   "execution_count": null,
   "metadata": {
    "colab": {
     "base_uri": "https://localhost:8080/"
    },
    "id": "cgLFNFXZa0_w",
    "outputId": "84280a4e-349e-431c-b728-e092a7a2ef75"
   },
   "outputs": [
    {
     "data": {
      "text/plain": [
       "AdaBoostClassifier()"
      ]
     },
     "execution_count": 34,
     "metadata": {},
     "output_type": "execute_result"
    }
   ],
   "source": [
    "### Import Library\n",
    "from sklearn.ensemble import AdaBoostClassifier\n",
    "\n",
    "### Train Model\n",
    "ab = AdaBoostClassifier()\n",
    "ab.fit(X_train, y_train)"
   ]
  },
  {
   "cell_type": "code",
   "execution_count": null,
   "metadata": {
    "colab": {
     "base_uri": "https://localhost:8080/"
    },
    "id": "K9NFe-gump9n",
    "outputId": "bb716f7f-8d64-4e23-8187-334a1f7452c1"
   },
   "outputs": [
    {
     "name": "stdout",
     "output_type": "stream",
     "text": [
      "Accuracy (train): 0.88\n",
      "Accuracy (test): 0.87\n",
      "=======\n",
      "Precision (train): 0.92\n",
      "Precision (test): 0.95\n",
      "=======\n",
      "Recall (train): 0.9\n",
      "Recall (test): 0.89\n",
      "=======\n",
      "F1 (train): 0.91\n",
      "F1 (test): 0.92\n",
      "=======\n",
      "AUC (train): 0.93\n",
      "AUC (test): 0.88\n",
      "=======\n",
      "CV AUC (train): 0.93\n",
      "CV AUC (test): 0.92\n"
     ]
    }
   ],
   "source": [
    "### Evaluate\n",
    "eval_classification(ab)"
   ]
  },
  {
   "cell_type": "code",
   "execution_count": null,
   "metadata": {
    "colab": {
     "base_uri": "https://localhost:8080/",
     "height": 282
    },
    "id": "q-3gu2z8mteO",
    "outputId": "9e17f5d2-9827-47dd-b4ec-7c7d282e9e36"
   },
   "outputs": [
    {
     "data": {
      "text/plain": [
       "<matplotlib.axes._subplots.AxesSubplot at 0x7fd94ad1b910>"
      ]
     },
     "execution_count": 36,
     "metadata": {},
     "output_type": "execute_result"
    },
    {
     "data": {
      "image/png": "[encoded data removed]",
      "text/plain": [
       "<Figure size 432x288 with 2 Axes>"
      ]
     },
     "metadata": {
      "needs_background": "light"
     },
     "output_type": "display_data"
    }
   ],
   "source": [
    "# Confusion Matrix\n",
    "y_pred = ab.predict(X_test)\n",
    "cm = confusion_matrix(y_test, y_pred)\n",
    "sns.heatmap(cm, annot = True, fmt = '.0f')"
   ]
  },
  {
   "cell_type": "markdown",
   "metadata": {
    "id": "b_X2xMu-mx4K"
   },
   "source": [
    "Model Ada Boost yang dilatih tidak mengalami overfitting"
   ]
  },
  {
   "cell_type": "markdown",
   "metadata": {
    "id": "0y0hup6Wa1lF"
   },
   "source": [
    "## XG Boost"
   ]
  },
  {
   "cell_type": "markdown",
   "metadata": {
    "id": "Ncpb2EsLm58t"
   },
   "source": [
    "### Base Training"
   ]
  },
  {
   "cell_type": "code",
   "execution_count": null,
   "metadata": {
    "colab": {
     "base_uri": "https://localhost:8080/"
    },
    "id": "sAQ1OcjCa2_H",
    "outputId": "d4732cb2-fc5d-4e6a-a649-4ca69fbf3cf5"
   },
   "outputs": [
    {
     "data": {
      "text/plain": [
       "XGBClassifier()"
      ]
     },
     "execution_count": 37,
     "metadata": {},
     "output_type": "execute_result"
    }
   ],
   "source": [
    "# XG boost\n",
    "import xgboost as xgb\n",
    "XGB = xgb.XGBClassifier()\n",
    "XGB.fit(X_train, y_train)\n"
   ]
  },
  {
   "cell_type": "code",
   "execution_count": null,
   "metadata": {
    "colab": {
     "base_uri": "https://localhost:8080/"
    },
    "id": "XcEIBhKFBmhP",
    "outputId": "e28ce110-7de3-4211-d564-a8a9fc2a56d1"
   },
   "outputs": [
    {
     "name": "stdout",
     "output_type": "stream",
     "text": [
      "Accuracy (train): 0.9\n",
      "Accuracy (test): 0.88\n",
      "=======\n",
      "Precision (train): 0.93\n",
      "Precision (test): 0.95\n",
      "=======\n",
      "Recall (train): 0.92\n",
      "Recall (test): 0.91\n",
      "=======\n",
      "F1 (train): 0.92\n",
      "F1 (test): 0.93\n",
      "=======\n",
      "AUC (train): 0.95\n",
      "AUC (test): 0.91\n",
      "=======\n",
      "CV AUC (train): 0.95\n",
      "CV AUC (test): 0.94\n"
     ]
    }
   ],
   "source": [
    "eval_classification(XGB)"
   ]
  },
  {
   "cell_type": "code",
   "execution_count": null,
   "metadata": {
    "colab": {
     "base_uri": "https://localhost:8080/",
     "height": 445
    },
    "id": "o9Cp7spGbcoF",
    "outputId": "850fcf48-e061-4970-861d-26fcad5fbf1d"
   },
   "outputs": [
    {
     "data": {
      "image/png": "[encoded data removed]",
      "text/plain": [
       "<Figure size 504x504 with 1 Axes>"
      ]
     },
     "metadata": {
      "needs_background": "light"
     },
     "output_type": "display_data"
    }
   ],
   "source": [
    "### Confusion Matrix\n",
    "from sklearn.metrics import confusion_matrix\n",
    "\n",
    "y_pred = XGB.predict(X_test)\n",
    "cm = confusion_matrix(y_test, y_pred)\n",
    "\n",
    "fig, ax = plt.subplots(figsize = (7, 7))\n",
    "\n",
    "labels = ['Not Purchase', 'Purchase']\n",
    "\n",
    "sns.heatmap(cm, annot=True, fmt = '.0f', ax = ax, cmap = 'Blues_r',\n",
    "            xticklabels = labels, yticklabels = labels,\n",
    "            cbar = False, \n",
    "            annot_kws = {\n",
    "                'fontsize': 13,\n",
    "                'weight' : 600\n",
    "            })\n",
    "\n",
    "plt.xlabel('Predicted', fontsize = 13)\n",
    "plt.ylabel('Actual', fontsize = 13)\n",
    "\n",
    "plt.show()"
   ]
  },
  {
   "cell_type": "markdown",
   "metadata": {
    "id": "EQVx9Rk9m-RK"
   },
   "source": [
    "Model XG Boost juga tidak mengalami overfitting"
   ]
  },
  {
   "cell_type": "markdown",
   "metadata": {
    "id": "3cbSW_QbhjYo"
   },
   "source": [
    "# Final Model\n",
    "\n",
    "Model yang dipilih pada project ini adalah XGBoost karena memiliki skor AUC yang paling tinggi dan juga mengacu ke skor precision recall."
   ]
  },
  {
   "cell_type": "markdown",
   "metadata": {
    "id": "EV-SfOeeneqU"
   },
   "source": [
    "## Feature Importance"
   ]
  },
  {
   "cell_type": "code",
   "execution_count": null,
   "metadata": {
    "colab": {
     "base_uri": "https://localhost:8080/",
     "height": 513
    },
    "id": "UrW_Q6zdcKQf",
    "outputId": "be1de60c-547b-4579-ac7d-0967b2171393"
   },
   "outputs": [
    {
     "data": {
      "image/png": "[encoded data removed]",
      "text/plain": [
       "<Figure size 720x576 with 1 Axes>"
      ]
     },
     "metadata": {
      "needs_background": "light"
     },
     "output_type": "display_data"
    }
   ],
   "source": [
    "show_feature_importance(XGB)"
   ]
  },
  {
   "cell_type": "markdown",
   "metadata": {
    "id": "7Fq8Lj7b3iTr"
   },
   "source": [
    "### Shap Values"
   ]
  },
  {
   "cell_type": "code",
   "execution_count": null,
   "metadata": {
    "colab": {
     "base_uri": "https://localhost:8080/"
    },
    "id": "Chp6WlZ8ieiy",
    "outputId": "aa0cb3c9-15c4-4175-f9ef-42fc312d30d9"
   },
   "outputs": [
    {
     "name": "stdout",
     "output_type": "stream",
     "text": [
      "Looking in indexes: https://pypi.org/simple, https://us-python.pkg.dev/colab-wheels/public/simple/\n",
      "Collecting shap\n",
      "  Downloading shap-0.41.0-cp38-cp38-manylinux_2_12_x86_64.manylinux2010_x86_64.whl (575 kB)\n",
      "\u001b[2K     \u001b[90m━━━━━━━━━━━━━━━━━━━━━━━━━━━━━━━━━━━━━━\u001b[0m \u001b[32m575.9/575.9 KB\u001b[0m \u001b[31m10.9 MB/s\u001b[0m eta \u001b[36m0:00:00\u001b[0m\n",
      "\u001b[?25hRequirement already satisfied: packaging>20.9 in /usr/local/lib/python3.8/dist-packages (from shap) (21.3)\n",
      "Requirement already satisfied: numpy in /usr/local/lib/python3.8/dist-packages (from shap) (1.21.6)\n",
      "Requirement already satisfied: pandas in /usr/local/lib/python3.8/dist-packages (from shap) (1.3.5)\n",
      "Requirement already satisfied: numba in /usr/local/lib/python3.8/dist-packages (from shap) (0.56.4)\n",
      "Requirement already satisfied: scipy in /usr/local/lib/python3.8/dist-packages (from shap) (1.7.3)\n",
      "Requirement already satisfied: cloudpickle in /usr/local/lib/python3.8/dist-packages (from shap) (1.5.0)\n",
      "Collecting slicer==0.0.7\n",
      "  Downloading slicer-0.0.7-py3-none-any.whl (14 kB)\n",
      "Requirement already satisfied: scikit-learn in /usr/local/lib/python3.8/dist-packages (from shap) (1.0.2)\n",
      "Requirement already satisfied: tqdm>4.25.0 in /usr/local/lib/python3.8/dist-packages (from shap) (4.64.1)\n",
      "Requirement already satisfied: pyparsing!=3.0.5,>=2.0.2 in /usr/local/lib/python3.8/dist-packages (from packaging>20.9->shap) (3.0.9)\n",
      "Requirement already satisfied: importlib-metadata in /usr/local/lib/python3.8/dist-packages (from numba->shap) (5.2.0)\n",
      "Requirement already satisfied: setuptools in /usr/local/lib/python3.8/dist-packages (from numba->shap) (57.4.0)\n",
      "Requirement already satisfied: llvmlite<0.40,>=0.39.0dev0 in /usr/local/lib/python3.8/dist-packages (from numba->shap) (0.39.1)\n",
      "Requirement already satisfied: python-dateutil>=2.7.3 in /usr/local/lib/python3.8/dist-packages (from pandas->shap) (2.8.2)\n",
      "Requirement already satisfied: pytz>=2017.3 in /usr/local/lib/python3.8/dist-packages (from pandas->shap) (2022.7)\n",
      "Requirement already satisfied: joblib>=0.11 in /usr/local/lib/python3.8/dist-packages (from scikit-learn->shap) (1.2.0)\n",
      "Requirement already satisfied: threadpoolctl>=2.0.0 in /usr/local/lib/python3.8/dist-packages (from scikit-learn->shap) (3.1.0)\n",
      "Requirement already satisfied: six>=1.5 in /usr/local/lib/python3.8/dist-packages (from python-dateutil>=2.7.3->pandas->shap) (1.15.0)\n",
      "Requirement already satisfied: zipp>=0.5 in /usr/local/lib/python3.8/dist-packages (from importlib-metadata->numba->shap) (3.11.0)\n",
      "Installing collected packages: slicer, shap\n",
      "Successfully installed shap-0.41.0 slicer-0.0.7\n"
     ]
    }
   ],
   "source": [
    "!pip install shap"
   ]
  },
  {
   "cell_type": "code",
   "execution_count": null,
   "metadata": {
    "colab": {
     "base_uri": "https://localhost:8080/"
    },
    "id": "qJshXjTx3dxH",
    "outputId": "615ce22b-cefa-45cd-fa84-6cce96f8ad8b"
   },
   "outputs": [
    {
     "name": "stdout",
     "output_type": "stream",
     "text": [
      "Shap ver: 0.41.0\n"
     ]
    }
   ],
   "source": [
    "import shap\n",
    "\n",
    "print('Shap ver:', shap.__version__)"
   ]
  },
  {
   "cell_type": "code",
   "execution_count": null,
   "metadata": {
    "colab": {
     "base_uri": "https://localhost:8080/",
     "height": 636
    },
    "id": "Cx_wvqJjh11M",
    "outputId": "8a3ffd2f-dccd-4385-aa42-7b00891ce812"
   },
   "outputs": [
    {
     "data": {
      "image/png": "[encoded data removed]",
      "text/plain": [
       "<Figure size 576x626.4 with 2 Axes>"
      ]
     },
     "metadata": {
      "needs_background": "light"
     },
     "output_type": "display_data"
    }
   ],
   "source": [
    "explainer = shap.TreeExplainer(XGB)\n",
    "shap_values = explainer.shap_values(X_test)\n",
    "shap.summary_plot(shap_values, X_test)"
   ]
  },
  {
   "cell_type": "markdown",
   "metadata": {
    "id": "CeDLDQuvPEHj"
   },
   "source": [
    "## Feature yang paling penting\n",
    "\n",
    "1. PageValues\n",
    "2. ExitRates\n",
    "3. Administrative\n",
    "4. ProductRelated"
   ]
  },
  {
   "cell_type": "markdown",
   "metadata": {
    "id": "554fToJZnvaS"
   },
   "source": [
    "## Business Insight\n",
    "\n",
    "1. Jika nilai Page Values semakin tinggi, maka kemungkinan pengunjung untuk purchase juga semakin tinggi.\n",
    "2. Semakin tinggi exit rate, maka kemungkinan untuk purchase semakin rendah.\n",
    "3. Semakin sedikit page Administrative yang dikunjungi, maka semakin tinggi kemungkinan pengunjung untuk purchase.\n",
    "4. Semakin banyak page Product Related yang dikunjungi, maka kemungkinan pengunjung untuk purchase semakin rendah."
   ]
  },
  {
   "cell_type": "markdown",
   "metadata": {
    "id": "e4H7-18iT_HS"
   },
   "source": [
    "## Action Items\n",
    "\n",
    "1. Untuk sesi dengan page value tinggi namun tidak purchase (abandoned cart), bisa diberikan email remainder untuk melanjutkan transaksi.\n",
    "2. Lakukan optimasi file gambar dan visual lainnya untuk mempercepat page load time (mengurangi exit rates).\n",
    "3. Minimalisir transaction error issue dan permudah proses transaksi agar visitor tidak terlalu sering membuka page administrative.\n",
    "4. Optimasi sistem product recommendation agar sesuai dengan tiap-tiap visitor."
   ]
  },
  {
   "cell_type": "code",
   "execution_count": null,
   "metadata": {
    "id": "knMyq773f-_u"
   },
   "outputs": [],
   "source": []
  }
 ],
 "metadata": {
  "colab": {
   "provenance": [],
   "toc_visible": true
  },
  "kernelspec": {
   "display_name": "Python 3 (ipykernel)",
   "language": "python",
   "name": "python3"
  },
  "language_info": {
   "codemirror_mode": {
    "name": "ipython",
    "version": 3
   },
   "file_extension": ".py",
   "mimetype": "text/x-python",
   "name": "python",
   "nbconvert_exporter": "python",
   "pygments_lexer": "ipython3",
   "version": "3.9.12"
  }
 },
 "nbformat": 4,
 "nbformat_minor": 4
}
