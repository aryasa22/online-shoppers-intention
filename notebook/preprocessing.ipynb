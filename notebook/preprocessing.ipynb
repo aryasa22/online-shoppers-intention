{
 "cells": [
  {
   "cell_type": "markdown",
   "id": "53778004-640e-4d56-8a9f-f33a6dedbb55",
   "metadata": {},
   "source": [
    "# Libraries"
   ]
  },
  {
   "cell_type": "code",
   "execution_count": 1,
   "id": "36371895-64e9-4712-9516-62765d40d839",
   "metadata": {},
   "outputs": [],
   "source": [
    "import numpy as np\n",
    "import pandas as pd\n",
    "\n",
    "import matplotlib.pyplot as plt\n",
    "import seaborn as sns\n",
    "\n",
    "pd.set_option('display.max_columns', None)"
   ]
  },
  {
   "cell_type": "code",
   "execution_count": 2,
   "id": "a708bdff-504c-415e-8ad9-088e041cb131",
   "metadata": {},
   "outputs": [
    {
     "name": "stdout",
     "output_type": "stream",
     "text": [
      "Sklearn ver: 1.1.3\n"
     ]
    }
   ],
   "source": [
    "import sklearn\n",
    "\n",
    "print('Sklearn ver:', sklearn.__version__)"
   ]
  },
  {
   "cell_type": "markdown",
   "id": "b9a32cdd-b06c-4e25-9597-f5943f00f862",
   "metadata": {},
   "source": [
    "# Import Dataset"
   ]
  },
  {
   "cell_type": "code",
   "execution_count": 3,
   "id": "ce1a57f2-ae43-4edd-97c6-88032c1a4b21",
   "metadata": {},
   "outputs": [
    {
     "data": {
      "text/html": [
       "<div>\n",
       "<style scoped>\n",
       "    .dataframe tbody tr th:only-of-type {\n",
       "        vertical-align: middle;\n",
       "    }\n",
       "\n",
       "    .dataframe tbody tr th {\n",
       "        vertical-align: top;\n",
       "    }\n",
       "\n",
       "    .dataframe thead th {\n",
       "        text-align: right;\n",
       "    }\n",
       "</style>\n",
       "<table border=\"1\" class=\"dataframe\">\n",
       "  <thead>\n",
       "    <tr style=\"text-align: right;\">\n",
       "      <th></th>\n",
       "      <th>Administrative</th>\n",
       "      <th>Administrative_Duration</th>\n",
       "      <th>Informational</th>\n",
       "      <th>Informational_Duration</th>\n",
       "      <th>ProductRelated</th>\n",
       "      <th>ProductRelated_Duration</th>\n",
       "      <th>BounceRates</th>\n",
       "      <th>ExitRates</th>\n",
       "      <th>PageValues</th>\n",
       "      <th>SpecialDay</th>\n",
       "      <th>Month</th>\n",
       "      <th>OperatingSystems</th>\n",
       "      <th>Browser</th>\n",
       "      <th>Region</th>\n",
       "      <th>TrafficType</th>\n",
       "      <th>VisitorType</th>\n",
       "      <th>Weekend</th>\n",
       "      <th>Revenue</th>\n",
       "    </tr>\n",
       "  </thead>\n",
       "  <tbody>\n",
       "    <tr>\n",
       "      <th>3931</th>\n",
       "      <td>5</td>\n",
       "      <td>114.666667</td>\n",
       "      <td>0</td>\n",
       "      <td>0.0</td>\n",
       "      <td>14</td>\n",
       "      <td>222.666667</td>\n",
       "      <td>0.080000</td>\n",
       "      <td>0.097778</td>\n",
       "      <td>0.00000</td>\n",
       "      <td>0.8</td>\n",
       "      <td>May</td>\n",
       "      <td>3</td>\n",
       "      <td>2</td>\n",
       "      <td>3</td>\n",
       "      <td>13</td>\n",
       "      <td>Returning_Visitor</td>\n",
       "      <td>False</td>\n",
       "      <td>False</td>\n",
       "    </tr>\n",
       "    <tr>\n",
       "      <th>2040</th>\n",
       "      <td>2</td>\n",
       "      <td>220.333333</td>\n",
       "      <td>1</td>\n",
       "      <td>70.5</td>\n",
       "      <td>75</td>\n",
       "      <td>3537.991667</td>\n",
       "      <td>0.011714</td>\n",
       "      <td>0.027362</td>\n",
       "      <td>5.77096</td>\n",
       "      <td>0.0</td>\n",
       "      <td>Mar</td>\n",
       "      <td>2</td>\n",
       "      <td>2</td>\n",
       "      <td>6</td>\n",
       "      <td>1</td>\n",
       "      <td>Returning_Visitor</td>\n",
       "      <td>False</td>\n",
       "      <td>False</td>\n",
       "    </tr>\n",
       "    <tr>\n",
       "      <th>9264</th>\n",
       "      <td>0</td>\n",
       "      <td>0.000000</td>\n",
       "      <td>4</td>\n",
       "      <td>8.0</td>\n",
       "      <td>66</td>\n",
       "      <td>1514.836310</td>\n",
       "      <td>0.022887</td>\n",
       "      <td>0.044914</td>\n",
       "      <td>0.00000</td>\n",
       "      <td>0.0</td>\n",
       "      <td>Dec</td>\n",
       "      <td>2</td>\n",
       "      <td>2</td>\n",
       "      <td>6</td>\n",
       "      <td>2</td>\n",
       "      <td>Returning_Visitor</td>\n",
       "      <td>False</td>\n",
       "      <td>False</td>\n",
       "    </tr>\n",
       "    <tr>\n",
       "      <th>6718</th>\n",
       "      <td>0</td>\n",
       "      <td>0.000000</td>\n",
       "      <td>0</td>\n",
       "      <td>0.0</td>\n",
       "      <td>1</td>\n",
       "      <td>0.000000</td>\n",
       "      <td>0.200000</td>\n",
       "      <td>0.200000</td>\n",
       "      <td>0.00000</td>\n",
       "      <td>0.0</td>\n",
       "      <td>Aug</td>\n",
       "      <td>2</td>\n",
       "      <td>5</td>\n",
       "      <td>7</td>\n",
       "      <td>1</td>\n",
       "      <td>Returning_Visitor</td>\n",
       "      <td>False</td>\n",
       "      <td>False</td>\n",
       "    </tr>\n",
       "    <tr>\n",
       "      <th>9927</th>\n",
       "      <td>0</td>\n",
       "      <td>0.000000</td>\n",
       "      <td>0</td>\n",
       "      <td>0.0</td>\n",
       "      <td>8</td>\n",
       "      <td>181.000000</td>\n",
       "      <td>0.025000</td>\n",
       "      <td>0.070833</td>\n",
       "      <td>0.00000</td>\n",
       "      <td>0.0</td>\n",
       "      <td>Nov</td>\n",
       "      <td>2</td>\n",
       "      <td>2</td>\n",
       "      <td>4</td>\n",
       "      <td>13</td>\n",
       "      <td>Returning_Visitor</td>\n",
       "      <td>False</td>\n",
       "      <td>False</td>\n",
       "    </tr>\n",
       "  </tbody>\n",
       "</table>\n",
       "</div>"
      ],
      "text/plain": [
       "      Administrative  Administrative_Duration  Informational  \\\n",
       "3931               5               114.666667              0   \n",
       "2040               2               220.333333              1   \n",
       "9264               0                 0.000000              4   \n",
       "6718               0                 0.000000              0   \n",
       "9927               0                 0.000000              0   \n",
       "\n",
       "      Informational_Duration  ProductRelated  ProductRelated_Duration  \\\n",
       "3931                     0.0              14               222.666667   \n",
       "2040                    70.5              75              3537.991667   \n",
       "9264                     8.0              66              1514.836310   \n",
       "6718                     0.0               1                 0.000000   \n",
       "9927                     0.0               8               181.000000   \n",
       "\n",
       "      BounceRates  ExitRates  PageValues  SpecialDay Month  OperatingSystems  \\\n",
       "3931     0.080000   0.097778     0.00000         0.8   May                 3   \n",
       "2040     0.011714   0.027362     5.77096         0.0   Mar                 2   \n",
       "9264     0.022887   0.044914     0.00000         0.0   Dec                 2   \n",
       "6718     0.200000   0.200000     0.00000         0.0   Aug                 2   \n",
       "9927     0.025000   0.070833     0.00000         0.0   Nov                 2   \n",
       "\n",
       "      Browser  Region  TrafficType        VisitorType  Weekend  Revenue  \n",
       "3931        2       3           13  Returning_Visitor    False    False  \n",
       "2040        2       6            1  Returning_Visitor    False    False  \n",
       "9264        2       6            2  Returning_Visitor    False    False  \n",
       "6718        5       7            1  Returning_Visitor    False    False  \n",
       "9927        2       4           13  Returning_Visitor    False    False  "
      ]
     },
     "execution_count": 3,
     "metadata": {},
     "output_type": "execute_result"
    }
   ],
   "source": [
    "df_raw = pd.read_csv('../dataset/online_shoppers_intention.csv')\n",
    "\n",
    "## Overview\n",
    "df_raw.sample(5)"
   ]
  },
  {
   "cell_type": "markdown",
   "id": "260587d7-d09d-4e4a-a0f5-0c5e39ee9572",
   "metadata": {},
   "source": [
    "# Data Cleansing"
   ]
  },
  {
   "cell_type": "code",
   "execution_count": 4,
   "id": "1c24eb65-f0f3-4d36-875c-6c16dea68d1d",
   "metadata": {},
   "outputs": [],
   "source": [
    "### Copy Raw Dataset\n",
    "df_clean = df_raw.copy()"
   ]
  },
  {
   "cell_type": "markdown",
   "id": "ef98c02a-29e6-4e19-ba9c-d70339011c9e",
   "metadata": {},
   "source": [
    "## Missing Values"
   ]
  },
  {
   "cell_type": "code",
   "execution_count": 5,
   "id": "4df4d063-6435-43da-8807-f9086754759c",
   "metadata": {},
   "outputs": [
    {
     "data": {
      "text/plain": [
       "0"
      ]
     },
     "execution_count": 5,
     "metadata": {},
     "output_type": "execute_result"
    }
   ],
   "source": [
    "df_clean.isnull().sum().sum()"
   ]
  },
  {
   "cell_type": "markdown",
   "id": "a34f1a46-98cd-4020-a2f5-684293acce8f",
   "metadata": {},
   "source": [
    "Tidak ada missing value yang perlu ditangani"
   ]
  },
  {
   "cell_type": "markdown",
   "id": "428539fe-2691-4296-bec1-90e0324a183b",
   "metadata": {},
   "source": [
    "## Duplicated Rows"
   ]
  },
  {
   "cell_type": "code",
   "execution_count": 6,
   "id": "396b663f-72b0-4724-ad6a-4a314de60ab7",
   "metadata": {},
   "outputs": [
    {
     "data": {
      "text/plain": [
       "125"
      ]
     },
     "execution_count": 6,
     "metadata": {},
     "output_type": "execute_result"
    }
   ],
   "source": [
    "df_clean.duplicated().sum()"
   ]
  },
  {
   "cell_type": "markdown",
   "id": "a1c57589-b163-452c-ae85-4c37effa2f28",
   "metadata": {},
   "source": [
    "Dari hasil tersebut dapat dilihat bahawa ada 125 data yang duplicat dan data tersebut perlu di hapus"
   ]
  },
  {
   "cell_type": "code",
   "execution_count": 7,
   "id": "7bb278bb-a575-4a1c-9782-3ac92f2af1fd",
   "metadata": {},
   "outputs": [],
   "source": [
    "### Menghapus baris duplikat\n",
    "df_clean.drop_duplicates(inplace=True)"
   ]
  },
  {
   "cell_type": "markdown",
   "id": "719ffe79-404e-49b3-9d9d-20d3948fb9b1",
   "metadata": {},
   "source": [
    "## Handle Outliers"
   ]
  },
  {
   "cell_type": "code",
   "execution_count": 8,
   "id": "d0f30ec7-721d-4053-bb6d-267bf81a9d7a",
   "metadata": {},
   "outputs": [],
   "source": [
    "### Fitur dengan outlier ekstrim\n",
    "feat_w_outl = ['Informational', 'ProductRelated', 'ProductRelated_Duration', \n",
    "               'PageValues']\n",
    "\n",
    "### Coba Drop Outlier\n",
    "df_no_outl = df_clean.copy()\n",
    "\n",
    "for i in feat_w_outl:\n",
    "    q1 = df_no_outl[i].quantile(.25)\n",
    "    q3 = df_no_outl[i].quantile(.75)\n",
    "    iqr = q3 - q1\n",
    "    \n",
    "    df_no_outl = df_no_outl[(df_no_outl[i] >= q1 - 1.5*iqr) & (df_no_outl[i] <= q3 + 1.5*iqr)]"
   ]
  },
  {
   "cell_type": "code",
   "execution_count": 9,
   "id": "4415ee8b-6a1b-46e0-8bfb-5f147edd559e",
   "metadata": {},
   "outputs": [
    {
     "name": "stdout",
     "output_type": "stream",
     "text": [
      "Dimensi sebelum remove outlier: (12205, 18)\n",
      "Dimensi setelah remove outlier: (7164, 18)\n",
      "Imbalance sebelum remove outlier\n",
      "False    0.843671\n",
      "True     0.156329\n",
      "Name: Revenue, dtype: float64\n",
      "Imbalance setelah remove outlier\n",
      "False    0.97306\n",
      "True     0.02694\n",
      "Name: Revenue, dtype: float64\n"
     ]
    }
   ],
   "source": [
    "### Cek dimensi\n",
    "print('Dimensi sebelum remove outlier:', df_clean.shape)\n",
    "print('Dimensi setelah remove outlier:', df_no_outl.shape)\n",
    "\n",
    "### Cek balance target\n",
    "print('Imbalance sebelum remove outlier')\n",
    "print(df_clean['Revenue'].value_counts(normalize = True))\n",
    "print('Imbalance setelah remove outlier')\n",
    "print(df_no_outl['Revenue'].value_counts(normalize = True))"
   ]
  },
  {
   "cell_type": "markdown",
   "id": "f2925b23-de2c-4a36-9b4e-d2daade7fb62",
   "metadata": {},
   "source": [
    "Setelah remove outlier banyak data target 1 (Revenue True) yang hilang. Mengindikasikan kalau outlier tersebut sebenarnya adalah pola yang wajar. Sehingga outlier tidak kami hilangkan."
   ]
  },
  {
   "cell_type": "markdown",
   "id": "e89d4fb9-07d0-4b02-9e07-7cfe1e4d57b5",
   "metadata": {},
   "source": [
    "## Feature Encoding"
   ]
  },
  {
   "cell_type": "code",
   "execution_count": 10,
   "id": "a60a7c8f-ad12-4d55-b76c-ec89f97aa73d",
   "metadata": {},
   "outputs": [],
   "source": [
    "### Target\n",
    "df_clean['Revenue'] = df_clean['Revenue'].astype('int')\n",
    "\n",
    "### Weekend\n",
    "df_clean['Weekend'] = df_clean['Weekend'].astype('int')"
   ]
  },
  {
   "cell_type": "code",
   "execution_count": 11,
   "id": "1b713125-8e10-4494-a4d7-e16006cffa3e",
   "metadata": {},
   "outputs": [],
   "source": [
    "### Feature engineering untuk fitur-fitur yang banyak unique\n",
    "\n",
    "### Month\n",
    "df_clean['Month'] = df_clean['Month'].apply(lambda x : x if x in ['Mar', 'May', 'Nov', 'Dec'] else 'Other')\n",
    "\n",
    "### OperatingSystem\n",
    "df_clean['OperatingSystems'] = df_clean['OperatingSystems'].apply(lambda x : x if x in [1, 2, 3] else 'Other')\n",
    "\n",
    "### Browser\n",
    "df_clean['Browser'] = df_clean['Browser'].apply(lambda x : x if x in [1, 2] else 'Other')\n",
    "\n",
    "### Region\n",
    "df_clean['Region'] = df_clean['Region'].apply(lambda x : x if x in [1, 3] else 'Other')\n",
    "\n",
    "### TrafficType\n",
    "df_clean['TrafficType'] = df_clean['TrafficType'].apply(lambda x : x if x in [1, 2, 3] else 'Other')"
   ]
  },
  {
   "cell_type": "code",
   "execution_count": 12,
   "id": "4ff85c28-66f6-4688-8420-0e4eceb0ccba",
   "metadata": {},
   "outputs": [],
   "source": [
    "### One Hot Encoding\n",
    "\n",
    "### Fitur numerik\n",
    "num_feat = [feature for feature in df_clean.columns if df_clean[feature].dtypes != 'O' and \n",
    "              feature not in ['Weekend', 'Revenue']]\n",
    "\n",
    "### Fitur kategorik\n",
    "cat_feat = [feature for feature in df_clean.columns if df_clean[feature].dtypes == 'O']\n",
    "\n",
    "#### OHE\n",
    "for i in cat_feat:\n",
    "    df_ohe = pd.get_dummies(df_clean[i], drop_first=True, prefix = i)\n",
    "    \n",
    "    df_clean.drop(i, axis = 1, inplace=True)\n",
    "    df_clean = pd.concat([df_clean, df_ohe], axis = 1)"
   ]
  },
  {
   "cell_type": "markdown",
   "id": "515587af-931b-45cb-8798-54f803d9ee60",
   "metadata": {},
   "source": [
    "## Transformation"
   ]
  },
  {
   "cell_type": "code",
   "execution_count": 13,
   "id": "f0a4a113-b85f-42d2-8607-c0d689f2d4bf",
   "metadata": {},
   "outputs": [],
   "source": [
    "### Train Test Split\n",
    "from sklearn.model_selection import train_test_split\n",
    "\n",
    "df_train, df_test = train_test_split(df_clean, test_size=.2, random_state=42)"
   ]
  },
  {
   "cell_type": "code",
   "execution_count": 14,
   "id": "a037ce37-323e-49c3-94e9-616b45c0c399",
   "metadata": {},
   "outputs": [],
   "source": [
    "### Cek apakah ada fitur numerik yang tidak memuat 0\n",
    "for i in num_feat:\n",
    "    if 0 not in df_clean[i].unique():\n",
    "        print(i)\n",
    "        \n",
    "### Transformasi Yeo Johnson (karena semua fitur numerik mengandung 0)\n",
    "from sklearn.preprocessing import PowerTransformer\n",
    "\n",
    "for i in num_feat:\n",
    "    \n",
    "    pt = PowerTransformer()\n",
    "    pt.fit(df_train[[i]])\n",
    "    df_train[i] = pt.transform(df_train[[i]])\n",
    "    df_test[i] = pt.transform(df_test[[i]])"
   ]
  },
  {
   "cell_type": "code",
   "execution_count": 15,
   "id": "2041e905-6714-493d-9584-5dc0e8623880",
   "metadata": {},
   "outputs": [],
   "source": [
    "### Scaling\n",
    "from sklearn.preprocessing import MinMaxScaler\n",
    "\n",
    "for i in num_feat:\n",
    "    sc = MinMaxScaler()\n",
    "    sc.fit(df_train[[i]])\n",
    "    df_train[i] = sc.transform(df_train[[i]])\n",
    "    df_test[i] = sc.transform(df_test[[i]])"
   ]
  },
  {
   "cell_type": "code",
   "execution_count": 16,
   "id": "b5dbd968-6b1e-4060-8c18-288a915f57ad",
   "metadata": {},
   "outputs": [
    {
     "data": {
      "image/png": "[encoded data removed]",
      "text/plain": [
       "<Figure size 1080x576 with 10 Axes>"
      ]
     },
     "metadata": {
      "needs_background": "light"
     },
     "output_type": "display_data"
    }
   ],
   "source": [
    "### Cek distribusi setelah transformasi\n",
    "\n",
    "plt.figure(figsize=(15, 8))\n",
    "for i in range(0, len(num_feat)):\n",
    "    plt.subplot(4, 3, i+1)\n",
    "    sns.kdeplot(df_train[num_feat[i]])\n",
    "    plt.tight_layout()"
   ]
  },
  {
   "cell_type": "markdown",
   "id": "06d3a3e6-dc78-4179-86d0-62bb22652b80",
   "metadata": {},
   "source": [
    "Beberapa fitur menjadi lebih normal"
   ]
  },
  {
   "cell_type": "markdown",
   "id": "cbea57c8-41fc-4a98-9feb-e54f1277da2d",
   "metadata": {},
   "source": [
    "## Imbalance"
   ]
  },
  {
   "cell_type": "code",
   "execution_count": null,
   "id": "6a957398-bf83-4f02-88e7-2bcbc62f0cff",
   "metadata": {},
   "outputs": [],
   "source": []
  },
  {
   "cell_type": "markdown",
   "id": "564f36c1-057c-4d85-9495-50bf851fed22",
   "metadata": {},
   "source": [
    "# Feature Engineering"
   ]
  },
  {
   "cell_type": "markdown",
   "id": "6237b9cc-d5d3-4f61-a719-8d63f40e1f42",
   "metadata": {},
   "source": [
    "## Feature Selection"
   ]
  },
  {
   "cell_type": "code",
   "execution_count": null,
   "id": "03cdd0e8-e0da-429d-a6ce-7f60c456db4e",
   "metadata": {},
   "outputs": [],
   "source": []
  },
  {
   "cell_type": "markdown",
   "id": "064a292d-01bf-44df-bd68-8cc376f7eb05",
   "metadata": {},
   "source": [
    "## Feature Extraction"
   ]
  },
  {
   "cell_type": "code",
   "execution_count": null,
   "id": "0fca0aa2-05c5-46c3-a830-892962b80be4",
   "metadata": {},
   "outputs": [],
   "source": []
  },
  {
   "cell_type": "markdown",
   "id": "e18cd139-27bf-4488-9b4f-b8788992d046",
   "metadata": {},
   "source": [
    "## Additional Features"
   ]
  },
  {
   "cell_type": "code",
   "execution_count": null,
   "id": "eb08810a-cad7-4a28-9246-c8020941cb1b",
   "metadata": {},
   "outputs": [],
   "source": []
  }
 ],
 "metadata": {
  "kernelspec": {
   "display_name": "Python 3 (ipykernel)",
   "language": "python",
   "name": "python3"
  },
  "language_info": {
   "codemirror_mode": {
    "name": "ipython",
    "version": 3
   },
   "file_extension": ".py",
   "mimetype": "text/x-python",
   "name": "python",
   "nbconvert_exporter": "python",
   "pygments_lexer": "ipython3",
   "version": "3.9.12"
  }
 },
 "nbformat": 4,
 "nbformat_minor": 5
}
