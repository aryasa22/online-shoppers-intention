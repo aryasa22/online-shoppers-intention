{
 "cells": [
  {
   "cell_type": "markdown",
   "id": "2f758c8d-219b-4721-91f6-b2bb105b99c9",
   "metadata": {},
   "source": [
    "# Libraries"
   ]
  },
  {
   "cell_type": "code",
   "execution_count": 2,
   "id": "30f9e105-8d29-4379-abe7-2cb9679bbed6",
   "metadata": {},
   "outputs": [],
   "source": [
    "import numpy as np # Numerical computation\n",
    "import pandas as pd # Dataset manipulation\n",
    "\n",
    "pd.set_option('display.max_columns', None) # Num of displayed columns\n",
    "\n",
    "# Visualization tools\n",
    "import matplotlib\n",
    "import matplotlib.pyplot as plt\n",
    "import seaborn as sns"
   ]
  },
  {
   "cell_type": "code",
   "execution_count": 6,
   "id": "a1fe54e0-bef3-45cf-8a91-bef50919b05f",
   "metadata": {},
   "outputs": [
    {
     "name": "stdout",
     "output_type": "stream",
     "text": [
      "Numpy ver: 1.21.5\n",
      "Pandas ver: 1.4.2\n",
      "Matplotlib ver: 3.5.1\n",
      "Seaborn ver: 0.11.2\n"
     ]
    }
   ],
   "source": [
    "# Libraries version\n",
    "\n",
    "print('Numpy ver:', np.__version__)\n",
    "print('Pandas ver:', pd.__version__)\n",
    "print('Matplotlib ver:', matplotlib.__version__)\n",
    "print('Seaborn ver:', sns.__version__)"
   ]
  },
  {
   "cell_type": "markdown",
   "id": "1930ddcc-9a2b-4cb1-936a-ef71056d410d",
   "metadata": {},
   "source": [
    "# Import Dataset"
   ]
  },
  {
   "cell_type": "code",
   "execution_count": 7,
   "id": "84df64c4-0967-4903-a142-e75f9bc3dc76",
   "metadata": {},
   "outputs": [
    {
     "data": {
      "text/html": [
       "<div>\n",
       "<style scoped>\n",
       "    .dataframe tbody tr th:only-of-type {\n",
       "        vertical-align: middle;\n",
       "    }\n",
       "\n",
       "    .dataframe tbody tr th {\n",
       "        vertical-align: top;\n",
       "    }\n",
       "\n",
       "    .dataframe thead th {\n",
       "        text-align: right;\n",
       "    }\n",
       "</style>\n",
       "<table border=\"1\" class=\"dataframe\">\n",
       "  <thead>\n",
       "    <tr style=\"text-align: right;\">\n",
       "      <th></th>\n",
       "      <th>Administrative</th>\n",
       "      <th>Administrative_Duration</th>\n",
       "      <th>Informational</th>\n",
       "      <th>Informational_Duration</th>\n",
       "      <th>ProductRelated</th>\n",
       "      <th>ProductRelated_Duration</th>\n",
       "      <th>BounceRates</th>\n",
       "      <th>ExitRates</th>\n",
       "      <th>PageValues</th>\n",
       "      <th>SpecialDay</th>\n",
       "      <th>Month</th>\n",
       "      <th>OperatingSystems</th>\n",
       "      <th>Browser</th>\n",
       "      <th>Region</th>\n",
       "      <th>TrafficType</th>\n",
       "      <th>VisitorType</th>\n",
       "      <th>Weekend</th>\n",
       "      <th>Revenue</th>\n",
       "    </tr>\n",
       "  </thead>\n",
       "  <tbody>\n",
       "    <tr>\n",
       "      <th>4758</th>\n",
       "      <td>6</td>\n",
       "      <td>98.666667</td>\n",
       "      <td>3</td>\n",
       "      <td>35.0</td>\n",
       "      <td>21</td>\n",
       "      <td>458.7</td>\n",
       "      <td>0.016667</td>\n",
       "      <td>0.026389</td>\n",
       "      <td>8.452500</td>\n",
       "      <td>0.0</td>\n",
       "      <td>May</td>\n",
       "      <td>1</td>\n",
       "      <td>1</td>\n",
       "      <td>1</td>\n",
       "      <td>3</td>\n",
       "      <td>Returning_Visitor</td>\n",
       "      <td>False</td>\n",
       "      <td>False</td>\n",
       "    </tr>\n",
       "    <tr>\n",
       "      <th>838</th>\n",
       "      <td>3</td>\n",
       "      <td>95.000000</td>\n",
       "      <td>0</td>\n",
       "      <td>0.0</td>\n",
       "      <td>27</td>\n",
       "      <td>808.7</td>\n",
       "      <td>0.006897</td>\n",
       "      <td>0.010345</td>\n",
       "      <td>0.000000</td>\n",
       "      <td>0.0</td>\n",
       "      <td>Mar</td>\n",
       "      <td>3</td>\n",
       "      <td>2</td>\n",
       "      <td>7</td>\n",
       "      <td>3</td>\n",
       "      <td>Returning_Visitor</td>\n",
       "      <td>True</td>\n",
       "      <td>False</td>\n",
       "    </tr>\n",
       "    <tr>\n",
       "      <th>11260</th>\n",
       "      <td>0</td>\n",
       "      <td>0.000000</td>\n",
       "      <td>0</td>\n",
       "      <td>0.0</td>\n",
       "      <td>27</td>\n",
       "      <td>910.0</td>\n",
       "      <td>0.007407</td>\n",
       "      <td>0.011111</td>\n",
       "      <td>0.000000</td>\n",
       "      <td>0.0</td>\n",
       "      <td>Nov</td>\n",
       "      <td>4</td>\n",
       "      <td>2</td>\n",
       "      <td>1</td>\n",
       "      <td>3</td>\n",
       "      <td>New_Visitor</td>\n",
       "      <td>True</td>\n",
       "      <td>False</td>\n",
       "    </tr>\n",
       "    <tr>\n",
       "      <th>7208</th>\n",
       "      <td>1</td>\n",
       "      <td>0.000000</td>\n",
       "      <td>0</td>\n",
       "      <td>0.0</td>\n",
       "      <td>29</td>\n",
       "      <td>1085.9</td>\n",
       "      <td>0.000000</td>\n",
       "      <td>0.007407</td>\n",
       "      <td>30.545963</td>\n",
       "      <td>0.0</td>\n",
       "      <td>Nov</td>\n",
       "      <td>2</td>\n",
       "      <td>2</td>\n",
       "      <td>1</td>\n",
       "      <td>4</td>\n",
       "      <td>New_Visitor</td>\n",
       "      <td>False</td>\n",
       "      <td>True</td>\n",
       "    </tr>\n",
       "    <tr>\n",
       "      <th>1337</th>\n",
       "      <td>0</td>\n",
       "      <td>0.000000</td>\n",
       "      <td>0</td>\n",
       "      <td>0.0</td>\n",
       "      <td>2</td>\n",
       "      <td>135.0</td>\n",
       "      <td>0.000000</td>\n",
       "      <td>0.100000</td>\n",
       "      <td>0.000000</td>\n",
       "      <td>0.0</td>\n",
       "      <td>Mar</td>\n",
       "      <td>1</td>\n",
       "      <td>1</td>\n",
       "      <td>1</td>\n",
       "      <td>2</td>\n",
       "      <td>Returning_Visitor</td>\n",
       "      <td>False</td>\n",
       "      <td>False</td>\n",
       "    </tr>\n",
       "  </tbody>\n",
       "</table>\n",
       "</div>"
      ],
      "text/plain": [
       "       Administrative  Administrative_Duration  Informational  \\\n",
       "4758                6                98.666667              3   \n",
       "838                 3                95.000000              0   \n",
       "11260               0                 0.000000              0   \n",
       "7208                1                 0.000000              0   \n",
       "1337                0                 0.000000              0   \n",
       "\n",
       "       Informational_Duration  ProductRelated  ProductRelated_Duration  \\\n",
       "4758                     35.0              21                    458.7   \n",
       "838                       0.0              27                    808.7   \n",
       "11260                     0.0              27                    910.0   \n",
       "7208                      0.0              29                   1085.9   \n",
       "1337                      0.0               2                    135.0   \n",
       "\n",
       "       BounceRates  ExitRates  PageValues  SpecialDay Month  OperatingSystems  \\\n",
       "4758      0.016667   0.026389    8.452500         0.0   May                 1   \n",
       "838       0.006897   0.010345    0.000000         0.0   Mar                 3   \n",
       "11260     0.007407   0.011111    0.000000         0.0   Nov                 4   \n",
       "7208      0.000000   0.007407   30.545963         0.0   Nov                 2   \n",
       "1337      0.000000   0.100000    0.000000         0.0   Mar                 1   \n",
       "\n",
       "       Browser  Region  TrafficType        VisitorType  Weekend  Revenue  \n",
       "4758         1       1            3  Returning_Visitor    False    False  \n",
       "838          2       7            3  Returning_Visitor     True    False  \n",
       "11260        2       1            3        New_Visitor     True    False  \n",
       "7208         2       1            4        New_Visitor    False     True  \n",
       "1337         1       1            2  Returning_Visitor    False    False  "
      ]
     },
     "execution_count": 7,
     "metadata": {},
     "output_type": "execute_result"
    }
   ],
   "source": [
    "df = pd.read_csv('../dataset/online_shoppers_intention.csv')\n",
    "\n",
    "# Overview\n",
    "df.sample(5)"
   ]
  },
  {
   "cell_type": "markdown",
   "id": "1bf8c6b6-f194-467e-a883-a28dd167ae80",
   "metadata": {},
   "source": [
    "# Exploratory Data Analysis"
   ]
  },
  {
   "cell_type": "markdown",
   "id": "93f1e0b4-217e-40b5-8017-449f49d58686",
   "metadata": {},
   "source": [
    "## Descriptive Statistics"
   ]
  },
  {
   "cell_type": "code",
   "execution_count": null,
   "id": "84ccc525-0fd0-4a2c-8975-3ac68308a5fc",
   "metadata": {},
   "outputs": [],
   "source": []
  },
  {
   "cell_type": "markdown",
   "id": "0f75b97b-289b-4ef7-8bdb-cb01d862f989",
   "metadata": {},
   "source": [
    "## Univariate Analysis"
   ]
  },
  {
   "cell_type": "code",
   "execution_count": null,
   "id": "d92eef29-0be2-4dcd-9917-ffe4b7fb640f",
   "metadata": {},
   "outputs": [],
   "source": []
  },
  {
   "cell_type": "markdown",
   "id": "a4be4712-3ffc-4240-bf4e-76dc0b5c54ac",
   "metadata": {},
   "source": [
    "## Multivariate Analysis"
   ]
  },
  {
   "cell_type": "code",
   "execution_count": null,
   "id": "64eec46f-f88f-4c54-8bae-28aebe96c8e1",
   "metadata": {},
   "outputs": [],
   "source": []
  },
  {
   "cell_type": "markdown",
   "id": "2329e664-8adf-464f-b552-b98dd59e3075",
   "metadata": {},
   "source": [
    "## Business Insight"
   ]
  },
  {
   "cell_type": "code",
   "execution_count": null,
   "id": "1a84d47f-7ee3-4157-b4a7-3a547e16319c",
   "metadata": {},
   "outputs": [],
   "source": []
  }
 ],
 "metadata": {
  "kernelspec": {
   "display_name": "Python 3 (ipykernel)",
   "language": "python",
   "name": "python3"
  },
  "language_info": {
   "codemirror_mode": {
    "name": "ipython",
    "version": 3
   },
   "file_extension": ".py",
   "mimetype": "text/x-python",
   "name": "python",
   "nbconvert_exporter": "python",
   "pygments_lexer": "ipython3",
   "version": "3.9.12"
  }
 },
 "nbformat": 4,
 "nbformat_minor": 5
}
