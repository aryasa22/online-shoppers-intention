{
  "nbformat": 4,
  "nbformat_minor": 0,
  "metadata": {
    "colab": {
      "provenance": []
    },
    "kernelspec": {
      "name": "python3",
      "display_name": "Python 3"
    },
    "language_info": {
      "name": "python"
    }
  },
  "cells": [
    {
      "cell_type": "markdown",
      "source": [
        "# Libraries"
      ],
      "metadata": {
        "id": "P43EurzfY4gM"
      }
    },
    {
      "cell_type": "code",
      "execution_count": null,
      "metadata": {
        "id": "FcFQrbvrYxO1"
      },
      "outputs": [],
      "source": [
        "import numpy as np # numerical computation\n",
        "import pandas as pd # dataset manipulation\n",
        "pd.set_option('display.max_columns', None)\n",
        "\n",
        "# Visualization tools\n",
        "import matplotlib\n",
        "import matplotlib.pyplot as plt\n",
        "import seaborn as sns\n",
        "\n",
        "# Modeling packages\n",
        "import sklearn\n",
        "import xgboost"
      ]
    },
    {
      "cell_type": "code",
      "source": [
        "print('Numpy ver:', np.__version__)\n",
        "print('Pandas ver:', pd.__version__)\n",
        "print('Matplotlib ver:', matplotlib.__version__)\n",
        "print('Seaborn ver:', sns.__version__)\n",
        "print('Sklearn ver:', sklearn.__version__)\n",
        "print('XGBoost ver:', xgboost.__version__)"
      ],
      "metadata": {
        "colab": {
          "base_uri": "https://localhost:8080/"
        },
        "id": "OXD7rElV25Bn",
        "outputId": "19ab9dae-f691-4da7-dadb-ed85542fd6f9"
      },
      "execution_count": null,
      "outputs": [
        {
          "output_type": "stream",
          "name": "stdout",
          "text": [
            "Numpy ver: 1.21.6\n",
            "Pandas ver: 1.3.5\n",
            "Matplotlib ver: 3.2.2\n",
            "Seaborn ver: 0.11.2\n",
            "Sklearn ver: 1.0.2\n",
            "XGBoost ver: 0.90\n"
          ]
        }
      ]
    },
    {
      "cell_type": "markdown",
      "source": [
        "# Import Dataset"
      ],
      "metadata": {
        "id": "2cW7sYUOZDbN"
      }
    },
    {
      "cell_type": "code",
      "source": [
        "## Train Dataset\n",
        "df_train = pd.read_csv('../dataset/data_train.csv')\n",
        "\n",
        "## Test Dataset\n",
        "df_test = pd.read_csv('../dataset/data_test.csv')"
      ],
      "metadata": {
        "id": "XTnAIh-HY9kh"
      },
      "execution_count": null,
      "outputs": []
    },
    {
      "cell_type": "code",
      "source": [
        "df_train.sample(5)"
      ],
      "metadata": {
        "id": "9_P_ZGtzZOUZ",
        "colab": {
          "base_uri": "https://localhost:8080/",
          "height": 270
        },
        "outputId": "0df39c7d-dd90-4832-f104-1af5152f3a98"
      },
      "execution_count": null,
      "outputs": [
        {
          "output_type": "execute_result",
          "data": {
            "text/plain": [
              "       Administrative  Administrative_Duration  Informational  \\\n",
              "365          0.000000                 0.000000            0.0   \n",
              "1132         0.000000                 0.000000            0.0   \n",
              "11779        0.508266                 0.601627            0.0   \n",
              "643          0.727590                 0.634719            0.0   \n",
              "3656         0.000000                 0.000000            0.0   \n",
              "\n",
              "       Informational_Duration  ProductRelated  ExitRates  PageValues  Weekend  \\\n",
              "365                       0.0        0.266393   0.593112     0.00000        1   \n",
              "1132                      0.0        0.475946   0.790328     0.00000        0   \n",
              "11779                     0.0        0.387434   0.196843     0.59472        0   \n",
              "643                       0.0        0.440420   0.593112     0.00000        0   \n",
              "3656                      0.0        0.610916   0.372975     0.00000        1   \n",
              "\n",
              "       OperatingSystems_2  OperatingSystems_3  OperatingSystems_Other  \\\n",
              "365                     0                   0                       0   \n",
              "1132                    1                   0                       0   \n",
              "11779                   1                   0                       0   \n",
              "643                     1                   0                       0   \n",
              "3656                    1                   0                       0   \n",
              "\n",
              "       Browser_2  Browser_Other  Region_3  Region_Other  TrafficType_2  \\\n",
              "365            0              0         0             0              0   \n",
              "1132           1              0         1             0              0   \n",
              "11779          0              1         1             0              1   \n",
              "643            0              1         0             1              0   \n",
              "3656           0              1         0             1              1   \n",
              "\n",
              "       TrafficType_3  TrafficType_Other  Revenue  \n",
              "365                0                  0        0  \n",
              "1132               0                  0        0  \n",
              "11779              0                  0        1  \n",
              "643                1                  0        0  \n",
              "3656               0                  0        0  "
            ],
            "text/html": [
              "\n",
              "  <div id=\"df-02d3fe4f-f38c-4b58-af76-6fb78bf1058d\">\n",
              "    <div class=\"colab-df-container\">\n",
              "      <div>\n",
              "<style scoped>\n",
              "    .dataframe tbody tr th:only-of-type {\n",
              "        vertical-align: middle;\n",
              "    }\n",
              "\n",
              "    .dataframe tbody tr th {\n",
              "        vertical-align: top;\n",
              "    }\n",
              "\n",
              "    .dataframe thead th {\n",
              "        text-align: right;\n",
              "    }\n",
              "</style>\n",
              "<table border=\"1\" class=\"dataframe\">\n",
              "  <thead>\n",
              "    <tr style=\"text-align: right;\">\n",
              "      <th></th>\n",
              "      <th>Administrative</th>\n",
              "      <th>Administrative_Duration</th>\n",
              "      <th>Informational</th>\n",
              "      <th>Informational_Duration</th>\n",
              "      <th>ProductRelated</th>\n",
              "      <th>ExitRates</th>\n",
              "      <th>PageValues</th>\n",
              "      <th>Weekend</th>\n",
              "      <th>OperatingSystems_2</th>\n",
              "      <th>OperatingSystems_3</th>\n",
              "      <th>OperatingSystems_Other</th>\n",
              "      <th>Browser_2</th>\n",
              "      <th>Browser_Other</th>\n",
              "      <th>Region_3</th>\n",
              "      <th>Region_Other</th>\n",
              "      <th>TrafficType_2</th>\n",
              "      <th>TrafficType_3</th>\n",
              "      <th>TrafficType_Other</th>\n",
              "      <th>Revenue</th>\n",
              "    </tr>\n",
              "  </thead>\n",
              "  <tbody>\n",
              "    <tr>\n",
              "      <th>365</th>\n",
              "      <td>0.000000</td>\n",
              "      <td>0.000000</td>\n",
              "      <td>0.0</td>\n",
              "      <td>0.0</td>\n",
              "      <td>0.266393</td>\n",
              "      <td>0.593112</td>\n",
              "      <td>0.00000</td>\n",
              "      <td>1</td>\n",
              "      <td>0</td>\n",
              "      <td>0</td>\n",
              "      <td>0</td>\n",
              "      <td>0</td>\n",
              "      <td>0</td>\n",
              "      <td>0</td>\n",
              "      <td>0</td>\n",
              "      <td>0</td>\n",
              "      <td>0</td>\n",
              "      <td>0</td>\n",
              "      <td>0</td>\n",
              "    </tr>\n",
              "    <tr>\n",
              "      <th>1132</th>\n",
              "      <td>0.000000</td>\n",
              "      <td>0.000000</td>\n",
              "      <td>0.0</td>\n",
              "      <td>0.0</td>\n",
              "      <td>0.475946</td>\n",
              "      <td>0.790328</td>\n",
              "      <td>0.00000</td>\n",
              "      <td>0</td>\n",
              "      <td>1</td>\n",
              "      <td>0</td>\n",
              "      <td>0</td>\n",
              "      <td>1</td>\n",
              "      <td>0</td>\n",
              "      <td>1</td>\n",
              "      <td>0</td>\n",
              "      <td>0</td>\n",
              "      <td>0</td>\n",
              "      <td>0</td>\n",
              "      <td>0</td>\n",
              "    </tr>\n",
              "    <tr>\n",
              "      <th>11779</th>\n",
              "      <td>0.508266</td>\n",
              "      <td>0.601627</td>\n",
              "      <td>0.0</td>\n",
              "      <td>0.0</td>\n",
              "      <td>0.387434</td>\n",
              "      <td>0.196843</td>\n",
              "      <td>0.59472</td>\n",
              "      <td>0</td>\n",
              "      <td>1</td>\n",
              "      <td>0</td>\n",
              "      <td>0</td>\n",
              "      <td>0</td>\n",
              "      <td>1</td>\n",
              "      <td>1</td>\n",
              "      <td>0</td>\n",
              "      <td>1</td>\n",
              "      <td>0</td>\n",
              "      <td>0</td>\n",
              "      <td>1</td>\n",
              "    </tr>\n",
              "    <tr>\n",
              "      <th>643</th>\n",
              "      <td>0.727590</td>\n",
              "      <td>0.634719</td>\n",
              "      <td>0.0</td>\n",
              "      <td>0.0</td>\n",
              "      <td>0.440420</td>\n",
              "      <td>0.593112</td>\n",
              "      <td>0.00000</td>\n",
              "      <td>0</td>\n",
              "      <td>1</td>\n",
              "      <td>0</td>\n",
              "      <td>0</td>\n",
              "      <td>0</td>\n",
              "      <td>1</td>\n",
              "      <td>0</td>\n",
              "      <td>1</td>\n",
              "      <td>0</td>\n",
              "      <td>1</td>\n",
              "      <td>0</td>\n",
              "      <td>0</td>\n",
              "    </tr>\n",
              "    <tr>\n",
              "      <th>3656</th>\n",
              "      <td>0.000000</td>\n",
              "      <td>0.000000</td>\n",
              "      <td>0.0</td>\n",
              "      <td>0.0</td>\n",
              "      <td>0.610916</td>\n",
              "      <td>0.372975</td>\n",
              "      <td>0.00000</td>\n",
              "      <td>1</td>\n",
              "      <td>1</td>\n",
              "      <td>0</td>\n",
              "      <td>0</td>\n",
              "      <td>0</td>\n",
              "      <td>1</td>\n",
              "      <td>0</td>\n",
              "      <td>1</td>\n",
              "      <td>1</td>\n",
              "      <td>0</td>\n",
              "      <td>0</td>\n",
              "      <td>0</td>\n",
              "    </tr>\n",
              "  </tbody>\n",
              "</table>\n",
              "</div>\n",
              "      <button class=\"colab-df-convert\" onclick=\"convertToInteractive('df-02d3fe4f-f38c-4b58-af76-6fb78bf1058d')\"\n",
              "              title=\"Convert this dataframe to an interactive table.\"\n",
              "              style=\"display:none;\">\n",
              "        \n",
              "  <svg xmlns=\"http://www.w3.org/2000/svg\" height=\"24px\"viewBox=\"0 0 24 24\"\n",
              "       width=\"24px\">\n",
              "    <path d=\"M0 0h24v24H0V0z\" fill=\"none\"/>\n",
              "    <path d=\"M18.56 5.44l.94 2.06.94-2.06 2.06-.94-2.06-.94-.94-2.06-.94 2.06-2.06.94zm-11 1L8.5 8.5l.94-2.06 2.06-.94-2.06-.94L8.5 2.5l-.94 2.06-2.06.94zm10 10l.94 2.06.94-2.06 2.06-.94-2.06-.94-.94-2.06-.94 2.06-2.06.94z\"/><path d=\"M17.41 7.96l-1.37-1.37c-.4-.4-.92-.59-1.43-.59-.52 0-1.04.2-1.43.59L10.3 9.45l-7.72 7.72c-.78.78-.78 2.05 0 2.83L4 21.41c.39.39.9.59 1.41.59.51 0 1.02-.2 1.41-.59l7.78-7.78 2.81-2.81c.8-.78.8-2.07 0-2.86zM5.41 20L4 18.59l7.72-7.72 1.47 1.35L5.41 20z\"/>\n",
              "  </svg>\n",
              "      </button>\n",
              "      \n",
              "  <style>\n",
              "    .colab-df-container {\n",
              "      display:flex;\n",
              "      flex-wrap:wrap;\n",
              "      gap: 12px;\n",
              "    }\n",
              "\n",
              "    .colab-df-convert {\n",
              "      background-color: #E8F0FE;\n",
              "      border: none;\n",
              "      border-radius: 50%;\n",
              "      cursor: pointer;\n",
              "      display: none;\n",
              "      fill: #1967D2;\n",
              "      height: 32px;\n",
              "      padding: 0 0 0 0;\n",
              "      width: 32px;\n",
              "    }\n",
              "\n",
              "    .colab-df-convert:hover {\n",
              "      background-color: #E2EBFA;\n",
              "      box-shadow: 0px 1px 2px rgba(60, 64, 67, 0.3), 0px 1px 3px 1px rgba(60, 64, 67, 0.15);\n",
              "      fill: #174EA6;\n",
              "    }\n",
              "\n",
              "    [theme=dark] .colab-df-convert {\n",
              "      background-color: #3B4455;\n",
              "      fill: #D2E3FC;\n",
              "    }\n",
              "\n",
              "    [theme=dark] .colab-df-convert:hover {\n",
              "      background-color: #434B5C;\n",
              "      box-shadow: 0px 1px 3px 1px rgba(0, 0, 0, 0.15);\n",
              "      filter: drop-shadow(0px 1px 2px rgba(0, 0, 0, 0.3));\n",
              "      fill: #FFFFFF;\n",
              "    }\n",
              "  </style>\n",
              "\n",
              "      <script>\n",
              "        const buttonEl =\n",
              "          document.querySelector('#df-02d3fe4f-f38c-4b58-af76-6fb78bf1058d button.colab-df-convert');\n",
              "        buttonEl.style.display =\n",
              "          google.colab.kernel.accessAllowed ? 'block' : 'none';\n",
              "\n",
              "        async function convertToInteractive(key) {\n",
              "          const element = document.querySelector('#df-02d3fe4f-f38c-4b58-af76-6fb78bf1058d');\n",
              "          const dataTable =\n",
              "            await google.colab.kernel.invokeFunction('convertToInteractive',\n",
              "                                                     [key], {});\n",
              "          if (!dataTable) return;\n",
              "\n",
              "          const docLinkHtml = 'Like what you see? Visit the ' +\n",
              "            '<a target=\"_blank\" href=https://colab.research.google.com/notebooks/data_table.ipynb>data table notebook</a>'\n",
              "            + ' to learn more about interactive tables.';\n",
              "          element.innerHTML = '';\n",
              "          dataTable['output_type'] = 'display_data';\n",
              "          await google.colab.output.renderOutput(dataTable, element);\n",
              "          const docLink = document.createElement('div');\n",
              "          docLink.innerHTML = docLinkHtml;\n",
              "          element.appendChild(docLink);\n",
              "        }\n",
              "      </script>\n",
              "    </div>\n",
              "  </div>\n",
              "  "
            ]
          },
          "metadata": {},
          "execution_count": 3
        }
      ]
    },
    {
      "cell_type": "code",
      "source": [
        "df_test.sample(5)"
      ],
      "metadata": {
        "id": "4UWk0CApZQS5",
        "colab": {
          "base_uri": "https://localhost:8080/",
          "height": 270
        },
        "outputId": "47d6321b-48f5-4bf1-a1ff-f6a73be613e0"
      },
      "execution_count": null,
      "outputs": [
        {
          "output_type": "execute_result",
          "data": {
            "text/plain": [
              "      Administrative  Administrative_Duration  Informational  \\\n",
              "899         0.727590                 0.786983       0.922497   \n",
              "2092        0.614212                 0.508274       0.000000   \n",
              "873         0.614212                 0.493805       0.000000   \n",
              "2313        0.359167                 0.581902       0.000000   \n",
              "367         0.000000                 0.000000       0.000000   \n",
              "\n",
              "      Informational_Duration  ProductRelated  ExitRates  PageValues  Weekend  \\\n",
              "899                  0.97502        0.628435   0.194311    0.941555        0   \n",
              "2092                 0.00000        0.455629   0.459044    0.000000        0   \n",
              "873                  0.00000        0.482163   0.381971    0.000000        1   \n",
              "2313                 0.00000        0.266393   0.593112    0.992708        1   \n",
              "367                  0.00000        0.469468   0.193835    0.993685        0   \n",
              "\n",
              "      Revenue  OperatingSystems_2  OperatingSystems_3  OperatingSystems_Other  \\\n",
              "899         1                   0                   1                       0   \n",
              "2092        1                   1                   0                       0   \n",
              "873         0                   0                   1                       0   \n",
              "2313        1                   0                   0                       0   \n",
              "367         0                   0                   0                       0   \n",
              "\n",
              "      Browser_2  Browser_Other  Region_3  Region_Other  TrafficType_2  \\\n",
              "899           1              0         1             0              0   \n",
              "2092          0              1         0             0              0   \n",
              "873           1              0         0             0              0   \n",
              "2313          0              0         0             1              0   \n",
              "367           0              0         0             0              1   \n",
              "\n",
              "      TrafficType_3  TrafficType_Other  \n",
              "899               0                  1  \n",
              "2092              0                  1  \n",
              "873               1                  0  \n",
              "2313              1                  0  \n",
              "367               0                  0  "
            ],
            "text/html": [
              "\n",
              "  <div id=\"df-6b0dfbba-8484-4ffa-a12f-e9660fe96cf0\">\n",
              "    <div class=\"colab-df-container\">\n",
              "      <div>\n",
              "<style scoped>\n",
              "    .dataframe tbody tr th:only-of-type {\n",
              "        vertical-align: middle;\n",
              "    }\n",
              "\n",
              "    .dataframe tbody tr th {\n",
              "        vertical-align: top;\n",
              "    }\n",
              "\n",
              "    .dataframe thead th {\n",
              "        text-align: right;\n",
              "    }\n",
              "</style>\n",
              "<table border=\"1\" class=\"dataframe\">\n",
              "  <thead>\n",
              "    <tr style=\"text-align: right;\">\n",
              "      <th></th>\n",
              "      <th>Administrative</th>\n",
              "      <th>Administrative_Duration</th>\n",
              "      <th>Informational</th>\n",
              "      <th>Informational_Duration</th>\n",
              "      <th>ProductRelated</th>\n",
              "      <th>ExitRates</th>\n",
              "      <th>PageValues</th>\n",
              "      <th>Weekend</th>\n",
              "      <th>Revenue</th>\n",
              "      <th>OperatingSystems_2</th>\n",
              "      <th>OperatingSystems_3</th>\n",
              "      <th>OperatingSystems_Other</th>\n",
              "      <th>Browser_2</th>\n",
              "      <th>Browser_Other</th>\n",
              "      <th>Region_3</th>\n",
              "      <th>Region_Other</th>\n",
              "      <th>TrafficType_2</th>\n",
              "      <th>TrafficType_3</th>\n",
              "      <th>TrafficType_Other</th>\n",
              "    </tr>\n",
              "  </thead>\n",
              "  <tbody>\n",
              "    <tr>\n",
              "      <th>899</th>\n",
              "      <td>0.727590</td>\n",
              "      <td>0.786983</td>\n",
              "      <td>0.922497</td>\n",
              "      <td>0.97502</td>\n",
              "      <td>0.628435</td>\n",
              "      <td>0.194311</td>\n",
              "      <td>0.941555</td>\n",
              "      <td>0</td>\n",
              "      <td>1</td>\n",
              "      <td>0</td>\n",
              "      <td>1</td>\n",
              "      <td>0</td>\n",
              "      <td>1</td>\n",
              "      <td>0</td>\n",
              "      <td>1</td>\n",
              "      <td>0</td>\n",
              "      <td>0</td>\n",
              "      <td>0</td>\n",
              "      <td>1</td>\n",
              "    </tr>\n",
              "    <tr>\n",
              "      <th>2092</th>\n",
              "      <td>0.614212</td>\n",
              "      <td>0.508274</td>\n",
              "      <td>0.000000</td>\n",
              "      <td>0.00000</td>\n",
              "      <td>0.455629</td>\n",
              "      <td>0.459044</td>\n",
              "      <td>0.000000</td>\n",
              "      <td>0</td>\n",
              "      <td>1</td>\n",
              "      <td>1</td>\n",
              "      <td>0</td>\n",
              "      <td>0</td>\n",
              "      <td>0</td>\n",
              "      <td>1</td>\n",
              "      <td>0</td>\n",
              "      <td>0</td>\n",
              "      <td>0</td>\n",
              "      <td>0</td>\n",
              "      <td>1</td>\n",
              "    </tr>\n",
              "    <tr>\n",
              "      <th>873</th>\n",
              "      <td>0.614212</td>\n",
              "      <td>0.493805</td>\n",
              "      <td>0.000000</td>\n",
              "      <td>0.00000</td>\n",
              "      <td>0.482163</td>\n",
              "      <td>0.381971</td>\n",
              "      <td>0.000000</td>\n",
              "      <td>1</td>\n",
              "      <td>0</td>\n",
              "      <td>0</td>\n",
              "      <td>1</td>\n",
              "      <td>0</td>\n",
              "      <td>1</td>\n",
              "      <td>0</td>\n",
              "      <td>0</td>\n",
              "      <td>0</td>\n",
              "      <td>0</td>\n",
              "      <td>1</td>\n",
              "      <td>0</td>\n",
              "    </tr>\n",
              "    <tr>\n",
              "      <th>2313</th>\n",
              "      <td>0.359167</td>\n",
              "      <td>0.581902</td>\n",
              "      <td>0.000000</td>\n",
              "      <td>0.00000</td>\n",
              "      <td>0.266393</td>\n",
              "      <td>0.593112</td>\n",
              "      <td>0.992708</td>\n",
              "      <td>1</td>\n",
              "      <td>1</td>\n",
              "      <td>0</td>\n",
              "      <td>0</td>\n",
              "      <td>0</td>\n",
              "      <td>0</td>\n",
              "      <td>0</td>\n",
              "      <td>0</td>\n",
              "      <td>1</td>\n",
              "      <td>0</td>\n",
              "      <td>1</td>\n",
              "      <td>0</td>\n",
              "    </tr>\n",
              "    <tr>\n",
              "      <th>367</th>\n",
              "      <td>0.000000</td>\n",
              "      <td>0.000000</td>\n",
              "      <td>0.000000</td>\n",
              "      <td>0.00000</td>\n",
              "      <td>0.469468</td>\n",
              "      <td>0.193835</td>\n",
              "      <td>0.993685</td>\n",
              "      <td>0</td>\n",
              "      <td>0</td>\n",
              "      <td>0</td>\n",
              "      <td>0</td>\n",
              "      <td>0</td>\n",
              "      <td>0</td>\n",
              "      <td>0</td>\n",
              "      <td>0</td>\n",
              "      <td>0</td>\n",
              "      <td>1</td>\n",
              "      <td>0</td>\n",
              "      <td>0</td>\n",
              "    </tr>\n",
              "  </tbody>\n",
              "</table>\n",
              "</div>\n",
              "      <button class=\"colab-df-convert\" onclick=\"convertToInteractive('df-6b0dfbba-8484-4ffa-a12f-e9660fe96cf0')\"\n",
              "              title=\"Convert this dataframe to an interactive table.\"\n",
              "              style=\"display:none;\">\n",
              "        \n",
              "  <svg xmlns=\"http://www.w3.org/2000/svg\" height=\"24px\"viewBox=\"0 0 24 24\"\n",
              "       width=\"24px\">\n",
              "    <path d=\"M0 0h24v24H0V0z\" fill=\"none\"/>\n",
              "    <path d=\"M18.56 5.44l.94 2.06.94-2.06 2.06-.94-2.06-.94-.94-2.06-.94 2.06-2.06.94zm-11 1L8.5 8.5l.94-2.06 2.06-.94-2.06-.94L8.5 2.5l-.94 2.06-2.06.94zm10 10l.94 2.06.94-2.06 2.06-.94-2.06-.94-.94-2.06-.94 2.06-2.06.94z\"/><path d=\"M17.41 7.96l-1.37-1.37c-.4-.4-.92-.59-1.43-.59-.52 0-1.04.2-1.43.59L10.3 9.45l-7.72 7.72c-.78.78-.78 2.05 0 2.83L4 21.41c.39.39.9.59 1.41.59.51 0 1.02-.2 1.41-.59l7.78-7.78 2.81-2.81c.8-.78.8-2.07 0-2.86zM5.41 20L4 18.59l7.72-7.72 1.47 1.35L5.41 20z\"/>\n",
              "  </svg>\n",
              "      </button>\n",
              "      \n",
              "  <style>\n",
              "    .colab-df-container {\n",
              "      display:flex;\n",
              "      flex-wrap:wrap;\n",
              "      gap: 12px;\n",
              "    }\n",
              "\n",
              "    .colab-df-convert {\n",
              "      background-color: #E8F0FE;\n",
              "      border: none;\n",
              "      border-radius: 50%;\n",
              "      cursor: pointer;\n",
              "      display: none;\n",
              "      fill: #1967D2;\n",
              "      height: 32px;\n",
              "      padding: 0 0 0 0;\n",
              "      width: 32px;\n",
              "    }\n",
              "\n",
              "    .colab-df-convert:hover {\n",
              "      background-color: #E2EBFA;\n",
              "      box-shadow: 0px 1px 2px rgba(60, 64, 67, 0.3), 0px 1px 3px 1px rgba(60, 64, 67, 0.15);\n",
              "      fill: #174EA6;\n",
              "    }\n",
              "\n",
              "    [theme=dark] .colab-df-convert {\n",
              "      background-color: #3B4455;\n",
              "      fill: #D2E3FC;\n",
              "    }\n",
              "\n",
              "    [theme=dark] .colab-df-convert:hover {\n",
              "      background-color: #434B5C;\n",
              "      box-shadow: 0px 1px 3px 1px rgba(0, 0, 0, 0.15);\n",
              "      filter: drop-shadow(0px 1px 2px rgba(0, 0, 0, 0.3));\n",
              "      fill: #FFFFFF;\n",
              "    }\n",
              "  </style>\n",
              "\n",
              "      <script>\n",
              "        const buttonEl =\n",
              "          document.querySelector('#df-6b0dfbba-8484-4ffa-a12f-e9660fe96cf0 button.colab-df-convert');\n",
              "        buttonEl.style.display =\n",
              "          google.colab.kernel.accessAllowed ? 'block' : 'none';\n",
              "\n",
              "        async function convertToInteractive(key) {\n",
              "          const element = document.querySelector('#df-6b0dfbba-8484-4ffa-a12f-e9660fe96cf0');\n",
              "          const dataTable =\n",
              "            await google.colab.kernel.invokeFunction('convertToInteractive',\n",
              "                                                     [key], {});\n",
              "          if (!dataTable) return;\n",
              "\n",
              "          const docLinkHtml = 'Like what you see? Visit the ' +\n",
              "            '<a target=\"_blank\" href=https://colab.research.google.com/notebooks/data_table.ipynb>data table notebook</a>'\n",
              "            + ' to learn more about interactive tables.';\n",
              "          element.innerHTML = '';\n",
              "          dataTable['output_type'] = 'display_data';\n",
              "          await google.colab.output.renderOutput(dataTable, element);\n",
              "          const docLink = document.createElement('div');\n",
              "          docLink.innerHTML = docLinkHtml;\n",
              "          element.appendChild(docLink);\n",
              "        }\n",
              "      </script>\n",
              "    </div>\n",
              "  </div>\n",
              "  "
            ]
          },
          "metadata": {},
          "execution_count": 4
        }
      ]
    },
    {
      "cell_type": "markdown",
      "source": [
        "# Define Train and Test Set"
      ],
      "metadata": {
        "id": "AhHt47HjZftS"
      }
    },
    {
      "cell_type": "code",
      "source": [
        "X_train = df_train.drop('Revenue', axis = 1)\n",
        "y_train = df_train['Revenue']\n",
        "\n",
        "X_test = df_test.drop('Revenue', axis = 1)\n",
        "y_test = df_test['Revenue']"
      ],
      "metadata": {
        "id": "epgPE7dOZiye"
      },
      "execution_count": null,
      "outputs": []
    },
    {
      "cell_type": "markdown",
      "source": [
        "# Functions"
      ],
      "metadata": {
        "id": "iNA7WMBVZUWi"
      }
    },
    {
      "cell_type": "code",
      "source": [
        "## Evaluate Classification Mode\n",
        "from sklearn.metrics import accuracy_score, precision_score, recall_score, f1_score, roc_auc_score\n",
        "from sklearn.model_selection import cross_validate\n",
        "\n",
        "def eval_classification(model, logreg = False, cv = True):\n",
        "  if logreg:\n",
        "    y_pred = model.predict(X_test_lr)\n",
        "    y_pred_proba = model.predict_proba(X_test_lr)\n",
        "\n",
        "    y_pred_train = model.predict(X_train_lr)\n",
        "    y_pred_train_proba = model.predict_proba(X_train_lr)\n",
        "  else:\n",
        "    y_pred = model.predict(X_test)\n",
        "    y_pred_proba = model.predict_proba(X_test)\n",
        "\n",
        "    y_pred_train = model.predict(X_train)\n",
        "    y_pred_train_proba = model.predict_proba(X_train)\n",
        "\n",
        "  print(f'Accuracy (train): {np.round(accuracy_score(y_train, y_pred_train),2)}')\n",
        "  print(f'Accuracy (test): {np.round(accuracy_score(y_test, y_pred),2)}')\n",
        "  print(\"=======\")\n",
        "  print(f'Precision (train): {np.round(precision_score(y_train, y_pred_train),2)}')\n",
        "  print(f'Precision (test): {np.round(precision_score(y_test, y_pred),2)}')\n",
        "  print(\"=======\")\n",
        "  print(f'Recall (train): {np.round(recall_score(y_train, y_pred_train),2)}')\n",
        "  print(f'Recall (test): {np.round(recall_score(y_test, y_pred),2)}')\n",
        "  print(\"=======\")\n",
        "  print(f'F1 (train): {np.round(f1_score(y_train, y_pred_train),2)}')\n",
        "  print(f'F1 (test): {np.round(f1_score(y_test, y_pred),2)}')\n",
        "  print(\"=======\")\n",
        "  print(f'AUC (train): {np.round(roc_auc_score(y_train, y_pred_train_proba[:, 1]),2)}')\n",
        "  print(f'AUC (test): {np.round(roc_auc_score(y_test, y_pred_proba[:, 1]),2)}')\n",
        "  print(\"=======\")\n",
        "\n",
        "  if cv:\n",
        "    if logreg:\n",
        "      score = cross_validate(model, X_train_lr, y_train, cv = 5, scoring = 'roc_auc', return_train_score=True)\n",
        "      print('CV AUC (train):',np.round(score['train_score'].mean(),2))\n",
        "      print('CV AUC (test):' ,np.round(score['test_score'].mean(),2))\n",
        "    else:\n",
        "      score = cross_validate(model, X_train, y_train, cv = 5, scoring = 'roc_auc', return_train_score=True)\n",
        "      print('CV AUC (train):',np.round(score['train_score'].mean(),2))\n",
        "      print('CV AUC (test):' ,np.round(score['test_score'].mean(),2))"
      ],
      "metadata": {
        "id": "K27OHVZhZR74"
      },
      "execution_count": null,
      "outputs": []
    },
    {
      "cell_type": "code",
      "source": [
        "## Feature Importance\n",
        "def show_feature_importance(model):\n",
        "    feat_importances = pd.Series(model.feature_importances_, index=X_train.columns)\n",
        "    ax = feat_importances.nlargest(25).plot(kind='barh', figsize=(10, 8))\n",
        "    ax.invert_yaxis()\n",
        "\n",
        "    plt.xlabel('score')\n",
        "    plt.ylabel('feature')\n",
        "    plt.title('feature importance score')"
      ],
      "metadata": {
        "id": "oyTQA-GgnXSg"
      },
      "execution_count": null,
      "outputs": []
    },
    {
      "cell_type": "markdown",
      "source": [
        "# Modeling\n",
        "\n",
        "Untuk setiap model, metric utama yang digunakan sebagai evaluasi adalah skor AUC."
      ],
      "metadata": {
        "id": "0NXTy01KZoLs"
      }
    },
    {
      "cell_type": "markdown",
      "source": [
        "## Naive Bayes"
      ],
      "metadata": {
        "id": "0Ju7Bxs3Zt7e"
      }
    },
    {
      "cell_type": "markdown",
      "source": [
        "### Base Training"
      ],
      "metadata": {
        "id": "mjTXcjMuZv7o"
      }
    },
    {
      "cell_type": "code",
      "source": [
        "### Import Library\n",
        "from sklearn.naive_bayes import GaussianNB\n",
        "\n",
        "### Train model\n",
        "nb = GaussianNB()\n",
        "nb.fit(X_train, y_train)"
      ],
      "metadata": {
        "id": "rsoqO1oaZYP5",
        "colab": {
          "base_uri": "https://localhost:8080/"
        },
        "outputId": "71e35db0-d6d3-4f81-d2d6-4e2f2e5b1875"
      },
      "execution_count": null,
      "outputs": [
        {
          "output_type": "execute_result",
          "data": {
            "text/plain": [
              "GaussianNB()"
            ]
          },
          "metadata": {},
          "execution_count": 8
        }
      ]
    },
    {
      "cell_type": "code",
      "source": [
        "### Evaluation\n",
        "eval_classification(nb)"
      ],
      "metadata": {
        "id": "DY1QCFVVZ7I4",
        "colab": {
          "base_uri": "https://localhost:8080/"
        },
        "outputId": "638dacb2-4f4d-437f-fa6e-6fe7c99c9596"
      },
      "execution_count": null,
      "outputs": [
        {
          "output_type": "stream",
          "name": "stdout",
          "text": [
            "Accuracy (train): 0.84\n",
            "Accuracy (test): 0.83\n",
            "=======\n",
            "Precision (train): 0.72\n",
            "Precision (test): 0.45\n",
            "=======\n",
            "Recall (train): 0.82\n",
            "Recall (test): 0.77\n",
            "=======\n",
            "F1 (train): 0.77\n",
            "F1 (test): 0.57\n",
            "=======\n",
            "AUC (train): 0.88\n",
            "AUC (test): 0.86\n",
            "=======\n",
            "CV AUC (train): 0.88\n",
            "CV AUC (test): 0.87\n"
          ]
        }
      ]
    },
    {
      "cell_type": "code",
      "source": [
        "### Confusion Matrix\n",
        "from sklearn.metrics import confusion_matrix\n",
        "\n",
        "y_pred = nb.predict(X_test)\n",
        "cm = confusion_matrix(y_test, y_pred)\n",
        "sns.heatmap(cm, annot=True, fmt = '.0f')"
      ],
      "metadata": {
        "id": "_DJgKrFQaAJo",
        "colab": {
          "base_uri": "https://localhost:8080/",
          "height": 282
        },
        "outputId": "fc04eb14-ce11-4a2e-ea78-6b8c22e32043"
      },
      "execution_count": null,
      "outputs": [
        {
          "output_type": "execute_result",
          "data": {
            "text/plain": [
              "<matplotlib.axes._subplots.AxesSubplot at 0x7f96fb1cb3d0>"
            ]
          },
          "metadata": {},
          "execution_count": 10
        },
        {
          "output_type": "display_data",
          "data": {
            "text/plain": [
              "<Figure size 432x288 with 2 Axes>"
            ],
            "image/png": "[encoded data removed]"
          },
          "metadata": {
            "needs_background": "light"
          }
        }
      ]
    },
    {
      "cell_type": "markdown",
      "source": [
        "Model naive bayes yang dilatih tidak mengalami overfitting sehingga tidak perlu dilakukan hyperparameter tuning"
      ],
      "metadata": {
        "id": "xPz3JirvdGTk"
      }
    },
    {
      "cell_type": "markdown",
      "source": [
        "## Logistic Regression"
      ],
      "metadata": {
        "id": "vT7M9p71ajlS"
      }
    },
    {
      "cell_type": "markdown",
      "source": [
        "### Drop Non Linear Features"
      ],
      "metadata": {
        "id": "1pXIv4iddOF0"
      }
    },
    {
      "cell_type": "code",
      "source": [
        "non_linear = ['Weekend']\n",
        "os = [x for x in X_train.columns if 'OperatingSystem' in x]\n",
        "browser = [x for x in X_train.columns if 'Browser' in x]\n",
        "region = [x for x in X_train.columns if 'Region' in x]\n",
        "traffic = [x for x in X_train.columns if 'TrafficType' in x]\n",
        "\n",
        "non_linear = non_linear + os + browser + region + traffic\n",
        "\n",
        "### Drop non linear\n",
        "X_train_lr = X_train.drop(non_linear, axis = 1)\n",
        "X_test_lr = X_test.drop(non_linear, axis = 1)"
      ],
      "metadata": {
        "id": "boxqfzVyaiVo"
      },
      "execution_count": null,
      "outputs": []
    },
    {
      "cell_type": "markdown",
      "source": [
        "### Base Training"
      ],
      "metadata": {
        "id": "k8SK2pUAdTem"
      }
    },
    {
      "cell_type": "code",
      "source": [
        "### Import Library\n",
        "from sklearn.linear_model import LogisticRegression\n",
        "\n",
        "### Train Model\n",
        "logreg = LogisticRegression()\n",
        "logreg.fit(X_train_lr, y_train)"
      ],
      "metadata": {
        "id": "ErM4Z4l-lSax",
        "colab": {
          "base_uri": "https://localhost:8080/"
        },
        "outputId": "d9d45b21-a16b-44ff-bdb8-e32de4559205"
      },
      "execution_count": null,
      "outputs": [
        {
          "output_type": "execute_result",
          "data": {
            "text/plain": [
              "LogisticRegression()"
            ]
          },
          "metadata": {},
          "execution_count": 12
        }
      ]
    },
    {
      "cell_type": "code",
      "source": [
        "### Evaluate\n",
        "eval_classification(logreg, True)"
      ],
      "metadata": {
        "id": "M_sYQsEGdcHx",
        "colab": {
          "base_uri": "https://localhost:8080/"
        },
        "outputId": "e4950d08-425c-4b70-cf50-590fd9b8480d"
      },
      "execution_count": null,
      "outputs": [
        {
          "output_type": "stream",
          "name": "stdout",
          "text": [
            "Accuracy (train): 0.86\n",
            "Accuracy (test): 0.87\n",
            "=======\n",
            "Precision (train): 0.79\n",
            "Precision (test): 0.55\n",
            "=======\n",
            "Recall (train): 0.81\n",
            "Recall (test): 0.77\n",
            "=======\n",
            "F1 (train): 0.8\n",
            "F1 (test): 0.64\n",
            "=======\n",
            "AUC (train): 0.89\n",
            "AUC (test): 0.86\n",
            "=======\n",
            "CV AUC (train): 0.89\n",
            "CV AUC (test): 0.89\n"
          ]
        }
      ]
    },
    {
      "cell_type": "code",
      "source": [
        "### Confusion Matrix\n",
        "\n",
        "y_pred = logreg.predict(X_test_lr)\n",
        "cm = confusion_matrix(y_test, y_pred)\n",
        "sns.heatmap(cm, annot=True, fmt = '.0f')"
      ],
      "metadata": {
        "id": "1d69ioeGfHGG",
        "colab": {
          "base_uri": "https://localhost:8080/",
          "height": 282
        },
        "outputId": "3aa9d865-6bb2-457a-8fa3-24e5f37a7921"
      },
      "execution_count": null,
      "outputs": [
        {
          "output_type": "execute_result",
          "data": {
            "text/plain": [
              "<matplotlib.axes._subplots.AxesSubplot at 0x7f96f82040a0>"
            ]
          },
          "metadata": {},
          "execution_count": 14
        },
        {
          "output_type": "display_data",
          "data": {
            "text/plain": [
              "<Figure size 432x288 with 2 Axes>"
            ],
            "image/png": "[encoded data removed]"
          },
          "metadata": {
            "needs_background": "light"
          }
        }
      ]
    },
    {
      "cell_type": "markdown",
      "source": [
        "Model regresi logistik juga tidak overfitting sehingga tidak perlu dilakukan hyperparameter tuning"
      ],
      "metadata": {
        "id": "fvTKMf0Adij1"
      }
    },
    {
      "cell_type": "markdown",
      "source": [
        "## Decision Tree"
      ],
      "metadata": {
        "id": "soFCBrV9alw0"
      }
    },
    {
      "cell_type": "markdown",
      "source": [
        "### Base Training"
      ],
      "metadata": {
        "id": "GCXezw9xdpTT"
      }
    },
    {
      "cell_type": "code",
      "source": [
        "### Import Library\n",
        "from sklearn.tree import DecisionTreeClassifier\n",
        "\n",
        "### Train Model\n",
        "dt = DecisionTreeClassifier()\n",
        "dt.fit(X_train, y_train)"
      ],
      "metadata": {
        "id": "rZLEuGX9aq4H",
        "colab": {
          "base_uri": "https://localhost:8080/"
        },
        "outputId": "7f64de18-39fe-405f-e73d-cf9cdec3198f"
      },
      "execution_count": null,
      "outputs": [
        {
          "output_type": "execute_result",
          "data": {
            "text/plain": [
              "DecisionTreeClassifier()"
            ]
          },
          "metadata": {},
          "execution_count": 15
        }
      ]
    },
    {
      "cell_type": "code",
      "source": [
        "### Evaluate\n",
        "eval_classification(dt)"
      ],
      "metadata": {
        "id": "jbfAM93yd0Xq",
        "colab": {
          "base_uri": "https://localhost:8080/"
        },
        "outputId": "6b82ceb4-76bb-4a0f-fd12-96709d2b0c17"
      },
      "execution_count": null,
      "outputs": [
        {
          "output_type": "stream",
          "name": "stdout",
          "text": [
            "Accuracy (train): 1.0\n",
            "Accuracy (test): 0.83\n",
            "=======\n",
            "Precision (train): 1.0\n",
            "Precision (test): 0.44\n",
            "=======\n",
            "Recall (train): 1.0\n",
            "Recall (test): 0.53\n",
            "=======\n",
            "F1 (train): 1.0\n",
            "F1 (test): 0.48\n",
            "=======\n",
            "AUC (train): 1.0\n",
            "AUC (test): 0.71\n",
            "=======\n",
            "CV AUC (train): 1.0\n",
            "CV AUC (test): 0.82\n"
          ]
        }
      ]
    },
    {
      "cell_type": "markdown",
      "source": [
        "Model decision tree yang dilatih mengalami overfitting sehingga perlu dilakukan hyperparameter tuning"
      ],
      "metadata": {
        "id": "H0otpiJHd4hX"
      }
    },
    {
      "cell_type": "markdown",
      "source": [
        "### Hyperparameter Tuning"
      ],
      "metadata": {
        "id": "x7wcBTEbd_Pd"
      }
    },
    {
      "cell_type": "code",
      "source": [
        "# Import Library\n",
        "from sklearn.model_selection import RandomizedSearchCV, GridSearchCV\n",
        "\n",
        "# List of hyperparameter\n",
        "max_depth = [int(x) for x in np.linspace(1, 110, num = 30)] # Maximum number of levels in tree\n",
        "min_samples_split = [2, 5, 10, 100] # Minimum number of samples required to split a node\n",
        "min_samples_leaf = [1, 2, 4, 10, 20, 50] # Minimum number of samples required at each leaf node\n",
        "max_features = ['log2', None] # Number of features to consider at every split\n",
        "criterion = ['gini','entropy']\n",
        "splitter = ['best','random']\n",
        "\n",
        "hyperparameters = dict(max_depth=max_depth, \n",
        "                       min_samples_split=min_samples_split, \n",
        "                       min_samples_leaf=min_samples_leaf,\n",
        "                       max_features=max_features,\n",
        "                       criterion=criterion,\n",
        "                       splitter=splitter\n",
        "                      )\n",
        "\n",
        "# Inisialisasi Model\n",
        "dt = DecisionTreeClassifier()\n",
        "rs_dt = RandomizedSearchCV(dt, hyperparameters, cv=5, scoring='roc_auc',random_state=42)\n",
        "rs_dt.fit(X_train, y_train)\n",
        "\n",
        "# Predict & Evaluation\n",
        "eval_classification(rs_dt)"
      ],
      "metadata": {
        "id": "tcycpxbepFdV",
        "colab": {
          "base_uri": "https://localhost:8080/"
        },
        "outputId": "ffa03204-a64b-47a3-e45d-4efcea461f7d"
      },
      "execution_count": null,
      "outputs": [
        {
          "output_type": "stream",
          "name": "stdout",
          "text": [
            "Accuracy (train): 0.9\n",
            "Accuracy (test): 0.88\n",
            "=======\n",
            "Precision (train): 0.85\n",
            "Precision (test): 0.58\n",
            "=======\n",
            "Recall (train): 0.83\n",
            "Recall (test): 0.62\n",
            "=======\n",
            "F1 (train): 0.84\n",
            "F1 (test): 0.6\n",
            "=======\n",
            "AUC (train): 0.96\n",
            "AUC (test): 0.88\n",
            "=======\n",
            "CV AUC (train): 0.96\n",
            "CV AUC (test): 0.92\n"
          ]
        }
      ]
    },
    {
      "cell_type": "code",
      "source": [
        "# Confusion Matrix\n",
        "y_pred = rs_dt.predict(X_test)\n",
        "cm = confusion_matrix(y_test, y_pred)\n",
        "sns.heatmap(cm, annot = True, fmt = '.0f')"
      ],
      "metadata": {
        "id": "KJV3Zl9SpS1Y",
        "colab": {
          "base_uri": "https://localhost:8080/",
          "height": 282
        },
        "outputId": "b6f88f61-e205-468d-fea3-017b0a9f93f5"
      },
      "execution_count": null,
      "outputs": [
        {
          "output_type": "execute_result",
          "data": {
            "text/plain": [
              "<matplotlib.axes._subplots.AxesSubplot at 0x7f96f7dd3a00>"
            ]
          },
          "metadata": {},
          "execution_count": 18
        },
        {
          "output_type": "display_data",
          "data": {
            "text/plain": [
              "<Figure size 432x288 with 2 Axes>"
            ],
            "image/png": "[encoded data removed]"
          },
          "metadata": {
            "needs_background": "light"
          }
        }
      ]
    },
    {
      "cell_type": "code",
      "source": [
        "# best paramenters\n",
        "\n",
        "rs_dt.best_estimator_.get_params()"
      ],
      "metadata": {
        "id": "5ZmdkCJ1pIQX",
        "colab": {
          "base_uri": "https://localhost:8080/"
        },
        "outputId": "1d09c3f8-e2e3-42b5-c682-25513cd6e03a"
      },
      "execution_count": null,
      "outputs": [
        {
          "output_type": "execute_result",
          "data": {
            "text/plain": [
              "{'ccp_alpha': 0.0,\n",
              " 'class_weight': None,\n",
              " 'criterion': 'entropy',\n",
              " 'max_depth': 110,\n",
              " 'max_features': None,\n",
              " 'max_leaf_nodes': None,\n",
              " 'min_impurity_decrease': 0.0,\n",
              " 'min_samples_leaf': 4,\n",
              " 'min_samples_split': 100,\n",
              " 'min_weight_fraction_leaf': 0.0,\n",
              " 'random_state': None,\n",
              " 'splitter': 'best'}"
            ]
          },
          "metadata": {},
          "execution_count": 19
        }
      ]
    },
    {
      "cell_type": "markdown",
      "source": [
        "Setelah dilakukan tuning, model decision tree tidak lagi overfitting dengan parameter terbaik adalah max_depth = 110, criterion = 'entropy', max_features = None, min_samples_leaf = 4, min_samples_split = 100, dan splitter = 'best'"
      ],
      "metadata": {
        "id": "jzTjfuSneWNK"
      }
    },
    {
      "cell_type": "markdown",
      "source": [
        "## Random Forest"
      ],
      "metadata": {
        "id": "23592wC8arcm"
      }
    },
    {
      "cell_type": "markdown",
      "source": [
        "### Base Training"
      ],
      "metadata": {
        "id": "ITL1BnoJfa6v"
      }
    },
    {
      "cell_type": "code",
      "source": [
        "### Import Library\n",
        "from sklearn.ensemble import RandomForestClassifier\n",
        "\n",
        "### Train model\n",
        "rf = RandomForestClassifier(random_state=42)\n",
        "rf.fit(X_train, y_train)"
      ],
      "metadata": {
        "id": "IPm2_SsAatLf",
        "colab": {
          "base_uri": "https://localhost:8080/"
        },
        "outputId": "59689942-960c-4b0f-ba56-d7f4f7c07c76"
      },
      "execution_count": null,
      "outputs": [
        {
          "output_type": "execute_result",
          "data": {
            "text/plain": [
              "RandomForestClassifier(random_state=42)"
            ]
          },
          "metadata": {},
          "execution_count": 20
        }
      ]
    },
    {
      "cell_type": "code",
      "source": [
        "### Evaluate\n",
        "eval_classification(rf)"
      ],
      "metadata": {
        "id": "DeWSOKNvfhgN",
        "colab": {
          "base_uri": "https://localhost:8080/"
        },
        "outputId": "fc5e31a9-f80b-4eec-9fe8-e32e1db121e8"
      },
      "execution_count": null,
      "outputs": [
        {
          "output_type": "stream",
          "name": "stdout",
          "text": [
            "Accuracy (train): 1.0\n",
            "Accuracy (test): 0.88\n",
            "=======\n",
            "Precision (train): 1.0\n",
            "Precision (test): 0.58\n",
            "=======\n",
            "Recall (train): 1.0\n",
            "Recall (test): 0.65\n",
            "=======\n",
            "F1 (train): 1.0\n",
            "F1 (test): 0.62\n",
            "=======\n",
            "AUC (train): 1.0\n",
            "AUC (test): 0.89\n",
            "=======\n",
            "CV AUC (train): 1.0\n",
            "CV AUC (test): 0.95\n"
          ]
        }
      ]
    },
    {
      "cell_type": "markdown",
      "source": [
        "Model random forest yang dilatih masih overfitting sehingga perlu adanya hyperparameter tuning"
      ],
      "metadata": {
        "id": "EUE-5wi1fpOv"
      }
    },
    {
      "cell_type": "markdown",
      "source": [
        "### Hyperparameter Tuning"
      ],
      "metadata": {
        "id": "8hM15f1FfuqM"
      }
    },
    {
      "cell_type": "code",
      "source": [
        "from sklearn.model_selection import RandomizedSearchCV\n",
        "\n",
        "n_estimators = [int(x) for x in np.linspace(2, 150, 30)]\n",
        "criterion = ['gini', 'entropy']\n",
        "max_depth = [int(x) for x in np.linspace(2, 100, 20)]\n",
        "min_samples_split = [int(x) for x in np.linspace(2, 150, 30)]\n",
        "min_samples_leaf = [int(x) for x in np.linspace(2, 150, 30)]\n",
        "\n",
        "hyperparameters = dict(n_estimators = n_estimators,\n",
        "                       criterion = criterion,\n",
        "                       max_depth = max_depth,\n",
        "                       min_samples_split = min_samples_split,\n",
        "                       min_samples_leaf = min_samples_leaf)\n",
        "\n",
        "rf_tune = RandomForestClassifier(random_state = 42)\n",
        "rs_rf = RandomizedSearchCV(rf_tune, hyperparameters, cv = 5, scoring = 'roc_auc', \n",
        "                           n_iter = 10, random_state = 42)\n",
        "rs_rf.fit(X_train, y_train)\n",
        "eval_classification(rs_rf)"
      ],
      "metadata": {
        "id": "TFjGv-A-kts5",
        "colab": {
          "base_uri": "https://localhost:8080/"
        },
        "outputId": "4ab50fa7-d2ef-436d-e817-1473191005b0"
      },
      "execution_count": null,
      "outputs": [
        {
          "output_type": "stream",
          "name": "stdout",
          "text": [
            "Accuracy (train): 0.89\n",
            "Accuracy (test): 0.87\n",
            "=======\n",
            "Precision (train): 0.81\n",
            "Precision (test): 0.56\n",
            "=======\n",
            "Recall (train): 0.86\n",
            "Recall (test): 0.76\n",
            "=======\n",
            "F1 (train): 0.83\n",
            "F1 (test): 0.64\n",
            "=======\n",
            "AUC (train): 0.96\n",
            "AUC (test): 0.91\n",
            "=======\n",
            "CV AUC (train): 0.96\n",
            "CV AUC (test): 0.94\n"
          ]
        }
      ]
    },
    {
      "cell_type": "code",
      "source": [
        "# Confusion Matrix\n",
        "y_pred = rs_rf.predict(X_test)\n",
        "cm = confusion_matrix(y_test, y_pred)\n",
        "sns.heatmap(cm, annot = True, fmt = '.0f')"
      ],
      "metadata": {
        "id": "kkuzEKkYgghe",
        "colab": {
          "base_uri": "https://localhost:8080/"
        },
        "outputId": "9b70d232-ee0a-41e5-f4a5-317c2c9c525a"
      },
      "execution_count": null,
      "outputs": [
        {
          "output_type": "execute_result",
          "data": {
            "text/plain": [
              "<matplotlib.axes._subplots.AxesSubplot at 0x7f96f7921cd0>"
            ]
          },
          "metadata": {},
          "execution_count": 23
        },
        {
          "output_type": "display_data",
          "data": {
            "text/plain": [
              "<Figure size 432x288 with 2 Axes>"
            ],
            "image/png": "[encoded data removed]"
          },
          "metadata": {
            "needs_background": "light"
          }
        }
      ]
    },
    {
      "cell_type": "code",
      "source": [
        "### Best Parameters\n",
        "rs_rf.best_estimator_.get_params()"
      ],
      "metadata": {
        "id": "T6VSyQnPlF4H",
        "colab": {
          "base_uri": "https://localhost:8080/"
        },
        "outputId": "5704c053-5f5c-4e5b-de4e-22905274d2c1"
      },
      "execution_count": null,
      "outputs": [
        {
          "output_type": "execute_result",
          "data": {
            "text/plain": [
              "{'bootstrap': True,\n",
              " 'ccp_alpha': 0.0,\n",
              " 'class_weight': None,\n",
              " 'criterion': 'entropy',\n",
              " 'max_depth': 89,\n",
              " 'max_features': 'auto',\n",
              " 'max_leaf_nodes': None,\n",
              " 'max_samples': None,\n",
              " 'min_impurity_decrease': 0.0,\n",
              " 'min_samples_leaf': 2,\n",
              " 'min_samples_split': 150,\n",
              " 'min_weight_fraction_leaf': 0.0,\n",
              " 'n_estimators': 104,\n",
              " 'n_jobs': None,\n",
              " 'oob_score': False,\n",
              " 'random_state': 42,\n",
              " 'verbose': 0,\n",
              " 'warm_start': False}"
            ]
          },
          "metadata": {},
          "execution_count": 24
        }
      ]
    },
    {
      "cell_type": "markdown",
      "source": [
        "Setelah tuning, model random forest mengalami peningkatan performa dan tidak lagi overfitting. Hyperparameter terbaiknya adalah n_estimators = 104, criterion = 'entropy', max_depth = 89, min_samples_split = 150, dan min_samples_leaf = 2."
      ],
      "metadata": {
        "id": "YyPojdEFgqII"
      }
    },
    {
      "cell_type": "markdown",
      "source": [
        "## K-Nearest Neighbors"
      ],
      "metadata": {
        "id": "qQhbV0oEatmT"
      }
    },
    {
      "cell_type": "markdown",
      "source": [
        "### Base Training"
      ],
      "metadata": {
        "id": "_KNcj737hFdZ"
      }
    },
    {
      "cell_type": "code",
      "source": [
        "from sklearn.neighbors import KNeighborsClassifier # import knn dari sklearn\n",
        "knn = KNeighborsClassifier() # inisiasi object dengan nama knn\n",
        "knn.fit(X_train, y_train) # fit model KNN dari data train"
      ],
      "metadata": {
        "id": "oN9zSTtlaw0Y",
        "colab": {
          "base_uri": "https://localhost:8080/"
        },
        "outputId": "16a56a83-8716-41df-8cf0-9ccf203c2b61"
      },
      "execution_count": null,
      "outputs": [
        {
          "output_type": "execute_result",
          "data": {
            "text/plain": [
              "KNeighborsClassifier()"
            ]
          },
          "metadata": {},
          "execution_count": 25
        }
      ]
    },
    {
      "cell_type": "code",
      "source": [
        "# Evaluasi\n",
        "eval_classification(knn)"
      ],
      "metadata": {
        "id": "5WwySmjHhLDo",
        "colab": {
          "base_uri": "https://localhost:8080/"
        },
        "outputId": "48e43798-e053-4240-ba52-10ae0c8eeb06"
      },
      "execution_count": null,
      "outputs": [
        {
          "output_type": "stream",
          "name": "stdout",
          "text": [
            "Accuracy (train): 0.91\n",
            "Accuracy (test): 0.86\n",
            "=======\n",
            "Precision (train): 0.85\n",
            "Precision (test): 0.53\n",
            "=======\n",
            "Recall (train): 0.88\n",
            "Recall (test): 0.69\n",
            "=======\n",
            "F1 (train): 0.86\n",
            "F1 (test): 0.59\n",
            "=======\n",
            "AUC (train): 0.97\n",
            "AUC (test): 0.84\n",
            "=======\n",
            "CV AUC (train): 0.97\n",
            "CV AUC (test): 0.92\n"
          ]
        }
      ]
    },
    {
      "cell_type": "markdown",
      "source": [
        "Model KNN sedikit mengalami overfitting sehingga perlu hyperparameter tuning"
      ],
      "metadata": {
        "id": "yzwq4iYxha_K"
      }
    },
    {
      "cell_type": "markdown",
      "source": [
        "### Hyperparameter Tuning"
      ],
      "metadata": {
        "id": "YjzQC7OQhgl4"
      }
    },
    {
      "cell_type": "code",
      "source": [
        "n_neighbors = [int(x) for x in np.linspace(2, 100, 30)]\n",
        "hyperparameters = dict(n_neighbors = n_neighbors)\n",
        "\n",
        "knn_tune = KNeighborsClassifier()\n",
        "rs_knn = RandomizedSearchCV(knn_tune, hyperparameters, cv = 5, return_train_score = True,\n",
        "                            scoring = 'roc_auc', random_state = 42)\n",
        "rs_knn.fit(X_train, y_train)\n",
        "eval_classification(rs_knn)"
      ],
      "metadata": {
        "id": "7c28FZ85hY34",
        "colab": {
          "base_uri": "https://localhost:8080/"
        },
        "outputId": "cb4c91df-ad02-4187-c847-b5394d7dd929"
      },
      "execution_count": null,
      "outputs": [
        {
          "output_type": "stream",
          "name": "stdout",
          "text": [
            "Accuracy (train): 0.87\n",
            "Accuracy (test): 0.87\n",
            "=======\n",
            "Precision (train): 0.8\n",
            "Precision (test): 0.55\n",
            "=======\n",
            "Recall (train): 0.8\n",
            "Recall (test): 0.71\n",
            "=======\n",
            "F1 (train): 0.8\n",
            "F1 (test): 0.62\n",
            "=======\n",
            "AUC (train): 0.93\n",
            "AUC (test): 0.87\n",
            "=======\n",
            "CV AUC (train): 0.93\n",
            "CV AUC (test): 0.91\n"
          ]
        }
      ]
    },
    {
      "cell_type": "code",
      "source": [
        "# Confusion Matrix\n",
        "y_pred = rs_knn.predict(X_test)\n",
        "cm = confusion_matrix(y_test, y_pred)\n",
        "sns.heatmap(cm, annot = True, fmt = '.0f')"
      ],
      "metadata": {
        "id": "HisBBOGpif82",
        "colab": {
          "base_uri": "https://localhost:8080/",
          "height": 282
        },
        "outputId": "52362df5-79a0-4a20-d265-3901f0f5cb4d"
      },
      "execution_count": null,
      "outputs": [
        {
          "output_type": "execute_result",
          "data": {
            "text/plain": [
              "<matplotlib.axes._subplots.AxesSubplot at 0x7f96f786f0d0>"
            ]
          },
          "metadata": {},
          "execution_count": 28
        },
        {
          "output_type": "display_data",
          "data": {
            "text/plain": [
              "<Figure size 432x288 with 2 Axes>"
            ],
            "image/png": "[encoded data removed]"
          },
          "metadata": {
            "needs_background": "light"
          }
        }
      ]
    },
    {
      "cell_type": "code",
      "source": [
        "### Best Parameters\n",
        "rs_knn.best_estimator_.get_params()"
      ],
      "metadata": {
        "id": "SXJmth6VifRU",
        "colab": {
          "base_uri": "https://localhost:8080/"
        },
        "outputId": "023bee3e-9d8c-41f4-f5d2-36ce6cd9b8a8"
      },
      "execution_count": null,
      "outputs": [
        {
          "output_type": "execute_result",
          "data": {
            "text/plain": [
              "{'algorithm': 'auto',\n",
              " 'leaf_size': 30,\n",
              " 'metric': 'minkowski',\n",
              " 'metric_params': None,\n",
              " 'n_jobs': None,\n",
              " 'n_neighbors': 29,\n",
              " 'p': 2,\n",
              " 'weights': 'uniform'}"
            ]
          },
          "metadata": {},
          "execution_count": 29
        }
      ]
    },
    {
      "cell_type": "markdown",
      "source": [
        "Performa model KNN lebih baik setelah tuning. Hyperparameter terbaiknya adalah n_neighbors = 29"
      ],
      "metadata": {
        "id": "L6lHKV3kkbdY"
      }
    },
    {
      "cell_type": "markdown",
      "source": [
        "## Support Vector Machine"
      ],
      "metadata": {
        "id": "NWvy2Eb6axMv"
      }
    },
    {
      "cell_type": "markdown",
      "source": [
        "### Base Training"
      ],
      "metadata": {
        "id": "30TTz1xbkjOP"
      }
    },
    {
      "cell_type": "code",
      "source": [
        "from sklearn.svm import SVC # import library\n",
        "svc = SVC(probability=True) # define model\n",
        "svc.fit(X_train, y_train) # train model"
      ],
      "metadata": {
        "id": "d1GbZ6YiazFg",
        "colab": {
          "base_uri": "https://localhost:8080/"
        },
        "outputId": "22641625-12c4-4baf-9279-c3caeb404e03"
      },
      "execution_count": null,
      "outputs": [
        {
          "output_type": "execute_result",
          "data": {
            "text/plain": [
              "SVC(probability=True)"
            ]
          },
          "metadata": {},
          "execution_count": 30
        }
      ]
    },
    {
      "cell_type": "code",
      "source": [
        "# evaluate\n",
        "eval_classification(svc)"
      ],
      "metadata": {
        "id": "4QJRhGR2chZ_",
        "colab": {
          "base_uri": "https://localhost:8080/"
        },
        "outputId": "cb43cef0-fae7-4e59-accb-299b240dc1ca"
      },
      "execution_count": null,
      "outputs": [
        {
          "output_type": "stream",
          "name": "stdout",
          "text": [
            "Accuracy (train): 0.87\n",
            "Accuracy (test): 0.87\n",
            "=======\n",
            "Precision (train): 0.79\n",
            "Precision (test): 0.54\n",
            "=======\n",
            "Recall (train): 0.83\n",
            "Recall (test): 0.77\n",
            "=======\n",
            "F1 (train): 0.81\n",
            "F1 (test): 0.63\n",
            "=======\n",
            "AUC (train): 0.94\n",
            "AUC (test): 0.87\n",
            "=======\n",
            "CV AUC (train): 0.94\n",
            "CV AUC (test): 0.92\n"
          ]
        }
      ]
    },
    {
      "cell_type": "code",
      "source": [
        "# Confusion Matrix\n",
        "y_pred = svc.predict(X_test)\n",
        "cm = confusion_matrix(y_test, y_pred)\n",
        "sns.heatmap(cm, annot = True, fmt = '.0f')"
      ],
      "metadata": {
        "id": "AaNLLeipkuZj",
        "colab": {
          "base_uri": "https://localhost:8080/",
          "height": 282
        },
        "outputId": "2e539e33-dc44-4f1a-8a57-17b4565d3d44"
      },
      "execution_count": null,
      "outputs": [
        {
          "output_type": "execute_result",
          "data": {
            "text/plain": [
              "<matplotlib.axes._subplots.AxesSubplot at 0x7f96f780b7f0>"
            ]
          },
          "metadata": {},
          "execution_count": 32
        },
        {
          "output_type": "display_data",
          "data": {
            "text/plain": [
              "<Figure size 432x288 with 2 Axes>"
            ],
            "image/png": "[encoded data removed]"
          },
          "metadata": {
            "needs_background": "light"
          }
        }
      ]
    },
    {
      "cell_type": "markdown",
      "source": [
        "Model SVC tidak mengalami overfitting"
      ],
      "metadata": {
        "id": "pogbXBCQkuAT"
      }
    },
    {
      "cell_type": "markdown",
      "source": [
        "## Ada Boost"
      ],
      "metadata": {
        "id": "oLGkL3CIaza7"
      }
    },
    {
      "cell_type": "markdown",
      "source": [
        "### Base Training"
      ],
      "metadata": {
        "id": "gCJeA1i8me3H"
      }
    },
    {
      "cell_type": "code",
      "source": [
        "### Import Library\n",
        "from sklearn.ensemble import AdaBoostClassifier\n",
        "\n",
        "### Train Model\n",
        "ab = AdaBoostClassifier()\n",
        "ab.fit(X_train, y_train)"
      ],
      "metadata": {
        "id": "cgLFNFXZa0_w",
        "colab": {
          "base_uri": "https://localhost:8080/"
        },
        "outputId": "d56cb922-7f5f-4c31-be7c-3f9bc797a2c4"
      },
      "execution_count": null,
      "outputs": [
        {
          "output_type": "execute_result",
          "data": {
            "text/plain": [
              "AdaBoostClassifier()"
            ]
          },
          "metadata": {},
          "execution_count": 33
        }
      ]
    },
    {
      "cell_type": "code",
      "source": [
        "### Evaluate\n",
        "eval_classification(ab)"
      ],
      "metadata": {
        "id": "K9NFe-gump9n",
        "colab": {
          "base_uri": "https://localhost:8080/"
        },
        "outputId": "1e18c394-8ca6-41ac-f560-1c907af1158c"
      },
      "execution_count": null,
      "outputs": [
        {
          "output_type": "stream",
          "name": "stdout",
          "text": [
            "Accuracy (train): 0.88\n",
            "Accuracy (test): 0.87\n",
            "=======\n",
            "Precision (train): 0.81\n",
            "Precision (test): 0.55\n",
            "=======\n",
            "Recall (train): 0.84\n",
            "Recall (test): 0.74\n",
            "=======\n",
            "F1 (train): 0.82\n",
            "F1 (test): 0.63\n",
            "=======\n",
            "AUC (train): 0.93\n",
            "AUC (test): 0.88\n",
            "=======\n",
            "CV AUC (train): 0.93\n",
            "CV AUC (test): 0.92\n"
          ]
        }
      ]
    },
    {
      "cell_type": "code",
      "source": [
        "# Confusion Matrix\n",
        "y_pred = ab.predict(X_test)\n",
        "cm = confusion_matrix(y_test, y_pred)\n",
        "sns.heatmap(cm, annot = True, fmt = '.0f')"
      ],
      "metadata": {
        "id": "q-3gu2z8mteO",
        "colab": {
          "base_uri": "https://localhost:8080/",
          "height": 282
        },
        "outputId": "e9094006-2e05-479f-ac25-34ba3615a04b"
      },
      "execution_count": null,
      "outputs": [
        {
          "output_type": "execute_result",
          "data": {
            "text/plain": [
              "<matplotlib.axes._subplots.AxesSubplot at 0x7f96f771fd30>"
            ]
          },
          "metadata": {},
          "execution_count": 35
        },
        {
          "output_type": "display_data",
          "data": {
            "text/plain": [
              "<Figure size 432x288 with 2 Axes>"
            ],
            "image/png": "[encoded data removed]"
          },
          "metadata": {
            "needs_background": "light"
          }
        }
      ]
    },
    {
      "cell_type": "markdown",
      "source": [
        "Model Ada Boost yang dilatih tidak mengalami overfitting"
      ],
      "metadata": {
        "id": "b_X2xMu-mx4K"
      }
    },
    {
      "cell_type": "markdown",
      "source": [
        "## XG Boost"
      ],
      "metadata": {
        "id": "0y0hup6Wa1lF"
      }
    },
    {
      "cell_type": "markdown",
      "source": [
        "### Base Training"
      ],
      "metadata": {
        "id": "Ncpb2EsLm58t"
      }
    },
    {
      "cell_type": "code",
      "source": [
        "# XG boost\n",
        "import xgboost as xgb\n",
        "XGB = xgb.XGBClassifier()\n",
        "XGB.fit(X_train, y_train)\n"
      ],
      "metadata": {
        "id": "sAQ1OcjCa2_H",
        "colab": {
          "base_uri": "https://localhost:8080/"
        },
        "outputId": "cb604f69-b078-4e12-bb7e-d367b138eaf9"
      },
      "execution_count": null,
      "outputs": [
        {
          "output_type": "execute_result",
          "data": {
            "text/plain": [
              "XGBClassifier()"
            ]
          },
          "metadata": {},
          "execution_count": 36
        }
      ]
    },
    {
      "cell_type": "code",
      "source": [
        "eval_classification(XGB)"
      ],
      "metadata": {
        "id": "9-m873BybVfq",
        "colab": {
          "base_uri": "https://localhost:8080/"
        },
        "outputId": "0cd57cb4-5fd6-42b9-82a0-8aec3a985817"
      },
      "execution_count": null,
      "outputs": [
        {
          "output_type": "stream",
          "name": "stdout",
          "text": [
            "Accuracy (train): 0.9\n",
            "Accuracy (test): 0.88\n",
            "=======\n",
            "Precision (train): 0.84\n",
            "Precision (test): 0.59\n",
            "=======\n",
            "Recall (train): 0.86\n",
            "Recall (test): 0.72\n",
            "=======\n",
            "F1 (train): 0.85\n",
            "F1 (test): 0.65\n",
            "=======\n",
            "AUC (train): 0.95\n",
            "AUC (test): 0.91\n",
            "=======\n",
            "CV AUC (train): 0.95\n",
            "CV AUC (test): 0.94\n"
          ]
        }
      ]
    },
    {
      "cell_type": "code",
      "source": [
        "### Confusion Matrix\n",
        "from sklearn.metrics import confusion_matrix\n",
        "\n",
        "y_pred = XGB.predict(X_test)\n",
        "cm = confusion_matrix(y_test, y_pred)\n",
        "sns.heatmap(cm, annot=True, fmt = '.0f')"
      ],
      "metadata": {
        "id": "o9Cp7spGbcoF",
        "colab": {
          "base_uri": "https://localhost:8080/",
          "height": 282
        },
        "outputId": "f7edad79-506a-4e48-afdb-d5cf0b1ed06e"
      },
      "execution_count": null,
      "outputs": [
        {
          "output_type": "execute_result",
          "data": {
            "text/plain": [
              "<matplotlib.axes._subplots.AxesSubplot at 0x7f96ee903490>"
            ]
          },
          "metadata": {},
          "execution_count": 38
        },
        {
          "output_type": "display_data",
          "data": {
            "text/plain": [
              "<Figure size 432x288 with 2 Axes>"
            ],
            "image/png": "[encoded data removed]"
          },
          "metadata": {
            "needs_background": "light"
          }
        }
      ]
    },
    {
      "cell_type": "markdown",
      "source": [
        "Model XG Boost juga tidak mengalami overfitting"
      ],
      "metadata": {
        "id": "EQVx9Rk9m-RK"
      }
    },
    {
      "cell_type": "markdown",
      "source": [
        "# Final Model\n",
        "\n",
        "Model yang dipilih pada project ini adalah XGBoost karena memiliki skor AUC yang paling tinggi dan juga mengacu ke skor precision recall."
      ],
      "metadata": {
        "id": "3cbSW_QbhjYo"
      }
    },
    {
      "cell_type": "markdown",
      "source": [
        "## Feature Importance"
      ],
      "metadata": {
        "id": "EV-SfOeeneqU"
      }
    },
    {
      "cell_type": "code",
      "source": [
        "show_feature_importance(XGB)"
      ],
      "metadata": {
        "id": "UrW_Q6zdcKQf",
        "colab": {
          "base_uri": "https://localhost:8080/",
          "height": 513
        },
        "outputId": "ead52234-74ac-4197-b5d4-4363c12c051b"
      },
      "execution_count": null,
      "outputs": [
        {
          "output_type": "display_data",
          "data": {
            "text/plain": [
              "<Figure size 720x576 with 1 Axes>"
            ],
            "image/png": "[encoded data removed]"
          },
          "metadata": {
            "needs_background": "light"
          }
        }
      ]
    },
    {
      "cell_type": "markdown",
      "source": [
        "### Shap Values"
      ],
      "metadata": {
        "id": "7Fq8Lj7b3iTr"
      }
    },
    {
      "cell_type": "code",
      "source": [
        "!pip install shap"
      ],
      "metadata": {
        "id": "Chp6WlZ8ieiy",
        "colab": {
          "base_uri": "https://localhost:8080/"
        },
        "outputId": "fff3e9c1-9e86-4804-b28b-b65d065ea0c6"
      },
      "execution_count": null,
      "outputs": [
        {
          "output_type": "stream",
          "name": "stdout",
          "text": [
            "Looking in indexes: https://pypi.org/simple, https://us-python.pkg.dev/colab-wheels/public/simple/\n",
            "Collecting shap\n",
            "  Downloading shap-0.41.0-cp38-cp38-manylinux_2_12_x86_64.manylinux2010_x86_64.whl (575 kB)\n",
            "\u001b[K     |████████████████████████████████| 575 kB 4.8 MB/s \n",
            "\u001b[?25hRequirement already satisfied: tqdm>4.25.0 in /usr/local/lib/python3.8/dist-packages (from shap) (4.64.1)\n",
            "Requirement already satisfied: scipy in /usr/local/lib/python3.8/dist-packages (from shap) (1.7.3)\n",
            "Requirement already satisfied: packaging>20.9 in /usr/local/lib/python3.8/dist-packages (from shap) (21.3)\n",
            "Requirement already satisfied: numba in /usr/local/lib/python3.8/dist-packages (from shap) (0.56.4)\n",
            "Requirement already satisfied: cloudpickle in /usr/local/lib/python3.8/dist-packages (from shap) (1.5.0)\n",
            "Requirement already satisfied: pandas in /usr/local/lib/python3.8/dist-packages (from shap) (1.3.5)\n",
            "Requirement already satisfied: numpy in /usr/local/lib/python3.8/dist-packages (from shap) (1.21.6)\n",
            "Collecting slicer==0.0.7\n",
            "  Downloading slicer-0.0.7-py3-none-any.whl (14 kB)\n",
            "Requirement already satisfied: scikit-learn in /usr/local/lib/python3.8/dist-packages (from shap) (1.0.2)\n",
            "Requirement already satisfied: pyparsing!=3.0.5,>=2.0.2 in /usr/local/lib/python3.8/dist-packages (from packaging>20.9->shap) (3.0.9)\n",
            "Requirement already satisfied: importlib-metadata in /usr/local/lib/python3.8/dist-packages (from numba->shap) (4.13.0)\n",
            "Requirement already satisfied: setuptools in /usr/local/lib/python3.8/dist-packages (from numba->shap) (57.4.0)\n",
            "Requirement already satisfied: llvmlite<0.40,>=0.39.0dev0 in /usr/local/lib/python3.8/dist-packages (from numba->shap) (0.39.1)\n",
            "Requirement already satisfied: zipp>=0.5 in /usr/local/lib/python3.8/dist-packages (from importlib-metadata->numba->shap) (3.11.0)\n",
            "Requirement already satisfied: python-dateutil>=2.7.3 in /usr/local/lib/python3.8/dist-packages (from pandas->shap) (2.8.2)\n",
            "Requirement already satisfied: pytz>=2017.3 in /usr/local/lib/python3.8/dist-packages (from pandas->shap) (2022.6)\n",
            "Requirement already satisfied: six>=1.5 in /usr/local/lib/python3.8/dist-packages (from python-dateutil>=2.7.3->pandas->shap) (1.15.0)\n",
            "Requirement already satisfied: joblib>=0.11 in /usr/local/lib/python3.8/dist-packages (from scikit-learn->shap) (1.2.0)\n",
            "Requirement already satisfied: threadpoolctl>=2.0.0 in /usr/local/lib/python3.8/dist-packages (from scikit-learn->shap) (3.1.0)\n",
            "Installing collected packages: slicer, shap\n",
            "Successfully installed shap-0.41.0 slicer-0.0.7\n"
          ]
        }
      ]
    },
    {
      "cell_type": "code",
      "source": [
        "import shap\n",
        "\n",
        "print('Shap ver:', shap.__version__)"
      ],
      "metadata": {
        "colab": {
          "base_uri": "https://localhost:8080/"
        },
        "id": "qJshXjTx3dxH",
        "outputId": "6cbb8e8b-b589-42d4-c540-a6eaef9f1fb8"
      },
      "execution_count": null,
      "outputs": [
        {
          "output_type": "stream",
          "name": "stdout",
          "text": [
            "Shap ver: 0.41.0\n"
          ]
        }
      ]
    },
    {
      "cell_type": "code",
      "source": [
        "explainer = shap.TreeExplainer(XGB)\n",
        "shap_values = explainer.shap_values(X_test)\n",
        "shap.summary_plot(shap_values, X_test)"
      ],
      "metadata": {
        "id": "Cx_wvqJjh11M",
        "colab": {
          "base_uri": "https://localhost:8080/",
          "height": 636
        },
        "outputId": "090ab9cd-3eb2-40f0-814b-22e29d0e18b5"
      },
      "execution_count": null,
      "outputs": [
        {
          "output_type": "display_data",
          "data": {
            "text/plain": [
              "<Figure size 576x626.4 with 2 Axes>"
            ],
            "image/png": "[encoded data removed]"
          },
          "metadata": {
            "needs_background": "light"
          }
        }
      ]
    },
    {
      "cell_type": "markdown",
      "source": [
        "## Feature yang paling penting\n",
        "\n",
        "1. PageValues\n",
        "2. ExitRates\n",
        "3. Administrative\n",
        "4. ProductRelated"
      ],
      "metadata": {
        "id": "CeDLDQuvPEHj"
      }
    },
    {
      "cell_type": "markdown",
      "source": [
        "## Business Insight\n",
        "\n",
        "1. Jika nilai Page Values semakin tinggi, maka kemungkinan pengunjung untuk purchase juga semakin tinggi.\n",
        "2. Semakin tinggi exit rate, maka kemungkinan untuk purchase semakin rendah.\n",
        "3. Semakin sedikit page Administrative yang dikunjungi, maka semakin tinggi kemungkinan pengunjung untuk purchase.\n",
        "4. Semakin banyak page Product Related yang dikunjungi, maka kemungkinan pengunjung untuk purchase semakin tinggi."
      ],
      "metadata": {
        "id": "554fToJZnvaS"
      }
    },
    {
      "cell_type": "markdown",
      "source": [
        "## Action Items\n",
        "\n",
        "1. Karena page dengan value yang tinggi akan leading ke purchase, pilih page dengan values tinggi untuk marketing campaign sesuai dengan target visitor.\n",
        "2. Lakukan optimasi desain UI/UX untuk menurunkan exit rate dan bounce rate.\n",
        "3. Kurangi tindakan berlebih yang membuat visitor sering membuka page administrative. Gunakan penempatan pop up page administrative yang sesuai (misal akhir sesi).\n",
        "4. Karena page Product Related leading ke purchase, maka perlu optimalisasi agar rekomendasi produk yang diberikan akurat sesuai dengan keinginan customer/visitor."
      ],
      "metadata": {
        "id": "e4H7-18iT_HS"
      }
    },
    {
      "cell_type": "code",
      "source": [],
      "metadata": {
        "id": "8oKw-Qj9oPpn"
      },
      "execution_count": null,
      "outputs": []
    }
  ]
}